{
 "cells": [
  {
   "cell_type": "code",
   "execution_count": 1,
   "metadata": {},
   "outputs": [],
   "source": [
    "import pandas as pd"
   ]
  },
  {
   "cell_type": "code",
   "execution_count": 2,
   "metadata": {},
   "outputs": [
    {
     "data": {
      "text/html": [
       "<div>\n",
       "<style scoped>\n",
       "    .dataframe tbody tr th:only-of-type {\n",
       "        vertical-align: middle;\n",
       "    }\n",
       "\n",
       "    .dataframe tbody tr th {\n",
       "        vertical-align: top;\n",
       "    }\n",
       "\n",
       "    .dataframe thead th {\n",
       "        text-align: right;\n",
       "    }\n",
       "</style>\n",
       "<table border=\"1\" class=\"dataframe\">\n",
       "  <thead>\n",
       "    <tr style=\"text-align: right;\">\n",
       "      <th></th>\n",
       "      <th>check_acc_status</th>\n",
       "      <th>duration_months</th>\n",
       "      <th>credit_his</th>\n",
       "      <th>credit_purpose</th>\n",
       "      <th>credit_amount</th>\n",
       "      <th>savings_acc</th>\n",
       "      <th>present_emp</th>\n",
       "      <th>disposable_rate</th>\n",
       "      <th>sex</th>\n",
       "      <th>other_debtors</th>\n",
       "      <th>...</th>\n",
       "      <th>property</th>\n",
       "      <th>age</th>\n",
       "      <th>other_install</th>\n",
       "      <th>housing</th>\n",
       "      <th>num_credits</th>\n",
       "      <th>job</th>\n",
       "      <th>num_people</th>\n",
       "      <th>telephone</th>\n",
       "      <th>foreign</th>\n",
       "      <th>response</th>\n",
       "    </tr>\n",
       "  </thead>\n",
       "  <tbody>\n",
       "    <tr>\n",
       "      <th>0</th>\n",
       "      <td>A11</td>\n",
       "      <td>6</td>\n",
       "      <td>A34</td>\n",
       "      <td>A43</td>\n",
       "      <td>1169</td>\n",
       "      <td>A65</td>\n",
       "      <td>A75</td>\n",
       "      <td>4</td>\n",
       "      <td>A93</td>\n",
       "      <td>A101</td>\n",
       "      <td>...</td>\n",
       "      <td>A121</td>\n",
       "      <td>67</td>\n",
       "      <td>A143</td>\n",
       "      <td>A152</td>\n",
       "      <td>2</td>\n",
       "      <td>A173</td>\n",
       "      <td>1</td>\n",
       "      <td>A192</td>\n",
       "      <td>A201</td>\n",
       "      <td>1</td>\n",
       "    </tr>\n",
       "    <tr>\n",
       "      <th>1</th>\n",
       "      <td>A12</td>\n",
       "      <td>48</td>\n",
       "      <td>A32</td>\n",
       "      <td>A43</td>\n",
       "      <td>5951</td>\n",
       "      <td>A61</td>\n",
       "      <td>A73</td>\n",
       "      <td>2</td>\n",
       "      <td>A92</td>\n",
       "      <td>A101</td>\n",
       "      <td>...</td>\n",
       "      <td>A121</td>\n",
       "      <td>22</td>\n",
       "      <td>A143</td>\n",
       "      <td>A152</td>\n",
       "      <td>1</td>\n",
       "      <td>A173</td>\n",
       "      <td>1</td>\n",
       "      <td>A191</td>\n",
       "      <td>A201</td>\n",
       "      <td>2</td>\n",
       "    </tr>\n",
       "    <tr>\n",
       "      <th>2</th>\n",
       "      <td>A14</td>\n",
       "      <td>12</td>\n",
       "      <td>A34</td>\n",
       "      <td>A46</td>\n",
       "      <td>2096</td>\n",
       "      <td>A61</td>\n",
       "      <td>A74</td>\n",
       "      <td>2</td>\n",
       "      <td>A93</td>\n",
       "      <td>A101</td>\n",
       "      <td>...</td>\n",
       "      <td>A121</td>\n",
       "      <td>49</td>\n",
       "      <td>A143</td>\n",
       "      <td>A152</td>\n",
       "      <td>1</td>\n",
       "      <td>A172</td>\n",
       "      <td>2</td>\n",
       "      <td>A191</td>\n",
       "      <td>A201</td>\n",
       "      <td>1</td>\n",
       "    </tr>\n",
       "    <tr>\n",
       "      <th>3</th>\n",
       "      <td>A11</td>\n",
       "      <td>42</td>\n",
       "      <td>A32</td>\n",
       "      <td>A42</td>\n",
       "      <td>7882</td>\n",
       "      <td>A61</td>\n",
       "      <td>A74</td>\n",
       "      <td>2</td>\n",
       "      <td>A93</td>\n",
       "      <td>A103</td>\n",
       "      <td>...</td>\n",
       "      <td>A122</td>\n",
       "      <td>45</td>\n",
       "      <td>A143</td>\n",
       "      <td>A153</td>\n",
       "      <td>1</td>\n",
       "      <td>A173</td>\n",
       "      <td>2</td>\n",
       "      <td>A191</td>\n",
       "      <td>A201</td>\n",
       "      <td>1</td>\n",
       "    </tr>\n",
       "    <tr>\n",
       "      <th>4</th>\n",
       "      <td>A11</td>\n",
       "      <td>24</td>\n",
       "      <td>A33</td>\n",
       "      <td>A40</td>\n",
       "      <td>4870</td>\n",
       "      <td>A61</td>\n",
       "      <td>A73</td>\n",
       "      <td>3</td>\n",
       "      <td>A93</td>\n",
       "      <td>A101</td>\n",
       "      <td>...</td>\n",
       "      <td>A124</td>\n",
       "      <td>53</td>\n",
       "      <td>A143</td>\n",
       "      <td>A153</td>\n",
       "      <td>2</td>\n",
       "      <td>A173</td>\n",
       "      <td>2</td>\n",
       "      <td>A191</td>\n",
       "      <td>A201</td>\n",
       "      <td>2</td>\n",
       "    </tr>\n",
       "  </tbody>\n",
       "</table>\n",
       "<p>5 rows × 21 columns</p>\n",
       "</div>"
      ],
      "text/plain": [
       "  check_acc_status  duration_months credit_his credit_purpose  credit_amount  \\\n",
       "0              A11                6        A34            A43           1169   \n",
       "1              A12               48        A32            A43           5951   \n",
       "2              A14               12        A34            A46           2096   \n",
       "3              A11               42        A32            A42           7882   \n",
       "4              A11               24        A33            A40           4870   \n",
       "\n",
       "  savings_acc present_emp  disposable_rate  sex other_debtors  ...  property  \\\n",
       "0         A65         A75                4  A93          A101  ...      A121   \n",
       "1         A61         A73                2  A92          A101  ...      A121   \n",
       "2         A61         A74                2  A93          A101  ...      A121   \n",
       "3         A61         A74                2  A93          A103  ...      A122   \n",
       "4         A61         A73                3  A93          A101  ...      A124   \n",
       "\n",
       "  age  other_install housing num_credits   job num_people  telephone foreign  \\\n",
       "0  67           A143    A152           2  A173          1       A192    A201   \n",
       "1  22           A143    A152           1  A173          1       A191    A201   \n",
       "2  49           A143    A152           1  A172          2       A191    A201   \n",
       "3  45           A143    A153           1  A173          2       A191    A201   \n",
       "4  53           A143    A153           2  A173          2       A191    A201   \n",
       "\n",
       "  response  \n",
       "0        1  \n",
       "1        2  \n",
       "2        1  \n",
       "3        1  \n",
       "4        2  \n",
       "\n",
       "[5 rows x 21 columns]"
      ]
     },
     "execution_count": 2,
     "metadata": {},
     "output_type": "execute_result"
    }
   ],
   "source": [
    "df = pd.read_csv('german_data.csv', sep=',', header=None)\n",
    "df.columns = [\"check_acc_status\", \"duration_months\", \"credit_his\", \"credit_purpose\", \n",
    "                \"credit_amount\", \"savings_acc\", \"present_emp\", \"disposable_rate\", \"sex\", \"other_debtors\", \n",
    "                \"present_resid_months\", \"property\", \"age\", \"other_install\", \"housing\", \"num_credits\", \n",
    "                \"job\", \"num_people\", \"telephone\", \"foreign\", \"response\"]\n",
    "df.head()"
   ]
  },
  {
   "cell_type": "code",
   "execution_count": 3,
   "metadata": {},
   "outputs": [
    {
     "data": {
      "text/plain": [
       "(1000, 21)"
      ]
     },
     "execution_count": 3,
     "metadata": {},
     "output_type": "execute_result"
    }
   ],
   "source": [
    "df.shape"
   ]
  },
  {
   "cell_type": "code",
   "execution_count": 4,
   "metadata": {},
   "outputs": [
    {
     "data": {
      "text/plain": [
       "0"
      ]
     },
     "execution_count": 4,
     "metadata": {},
     "output_type": "execute_result"
    }
   ],
   "source": [
    "df.isnull().sum().sum()"
   ]
  },
  {
   "cell_type": "code",
   "execution_count": 5,
   "metadata": {},
   "outputs": [
    {
     "data": {
      "text/plain": [
       "check_acc_status        object\n",
       "duration_months          int64\n",
       "credit_his              object\n",
       "credit_purpose          object\n",
       "credit_amount            int64\n",
       "savings_acc             object\n",
       "present_emp             object\n",
       "disposable_rate          int64\n",
       "sex                     object\n",
       "other_debtors           object\n",
       "present_resid_months     int64\n",
       "property                object\n",
       "age                      int64\n",
       "other_install           object\n",
       "housing                 object\n",
       "num_credits              int64\n",
       "job                     object\n",
       "num_people               int64\n",
       "telephone               object\n",
       "foreign                 object\n",
       "response                 int64\n",
       "dtype: object"
      ]
     },
     "execution_count": 5,
     "metadata": {},
     "output_type": "execute_result"
    }
   ],
   "source": [
    "df.dtypes"
   ]
  },
  {
   "cell_type": "code",
   "execution_count": 6,
   "metadata": {},
   "outputs": [],
   "source": [
    "categorical_vars = ['check_acc_status', 'credit_his', 'credit_purpose', 'savings_acc', \n",
    "                    'present_emp', 'sex', 'other_debtors', 'property', 'other_install',\n",
    "                    'housing', 'job', 'telephone', 'foreign']\n",
    "\n",
    "numerical_vars = ['duration_months', 'credit_amount', 'disposable_rate', 'present_resid_months',\n",
    "                  'age', 'num_credits', 'num_people', 'response']"
   ]
  },
  {
   "cell_type": "code",
   "execution_count": 7,
   "metadata": {},
   "outputs": [
    {
     "data": {
      "text/html": [
       "<div>\n",
       "<style scoped>\n",
       "    .dataframe tbody tr th:only-of-type {\n",
       "        vertical-align: middle;\n",
       "    }\n",
       "\n",
       "    .dataframe tbody tr th {\n",
       "        vertical-align: top;\n",
       "    }\n",
       "\n",
       "    .dataframe thead th {\n",
       "        text-align: right;\n",
       "    }\n",
       "</style>\n",
       "<table border=\"1\" class=\"dataframe\">\n",
       "  <thead>\n",
       "    <tr style=\"text-align: right;\">\n",
       "      <th></th>\n",
       "      <th>duration_months</th>\n",
       "      <th>credit_amount</th>\n",
       "      <th>disposable_rate</th>\n",
       "      <th>present_resid_months</th>\n",
       "      <th>age</th>\n",
       "      <th>num_credits</th>\n",
       "      <th>num_people</th>\n",
       "      <th>response</th>\n",
       "    </tr>\n",
       "  </thead>\n",
       "  <tbody>\n",
       "    <tr>\n",
       "      <th>count</th>\n",
       "      <td>1000.000000</td>\n",
       "      <td>1000.000000</td>\n",
       "      <td>1000.000000</td>\n",
       "      <td>1000.000000</td>\n",
       "      <td>1000.000000</td>\n",
       "      <td>1000.000000</td>\n",
       "      <td>1000.000000</td>\n",
       "      <td>1000.000000</td>\n",
       "    </tr>\n",
       "    <tr>\n",
       "      <th>mean</th>\n",
       "      <td>20.903000</td>\n",
       "      <td>3271.258000</td>\n",
       "      <td>2.973000</td>\n",
       "      <td>2.845000</td>\n",
       "      <td>35.546000</td>\n",
       "      <td>1.407000</td>\n",
       "      <td>1.155000</td>\n",
       "      <td>1.300000</td>\n",
       "    </tr>\n",
       "    <tr>\n",
       "      <th>std</th>\n",
       "      <td>12.058814</td>\n",
       "      <td>2822.736876</td>\n",
       "      <td>1.118715</td>\n",
       "      <td>1.103718</td>\n",
       "      <td>11.375469</td>\n",
       "      <td>0.577654</td>\n",
       "      <td>0.362086</td>\n",
       "      <td>0.458487</td>\n",
       "    </tr>\n",
       "    <tr>\n",
       "      <th>min</th>\n",
       "      <td>4.000000</td>\n",
       "      <td>250.000000</td>\n",
       "      <td>1.000000</td>\n",
       "      <td>1.000000</td>\n",
       "      <td>19.000000</td>\n",
       "      <td>1.000000</td>\n",
       "      <td>1.000000</td>\n",
       "      <td>1.000000</td>\n",
       "    </tr>\n",
       "    <tr>\n",
       "      <th>25%</th>\n",
       "      <td>12.000000</td>\n",
       "      <td>1365.500000</td>\n",
       "      <td>2.000000</td>\n",
       "      <td>2.000000</td>\n",
       "      <td>27.000000</td>\n",
       "      <td>1.000000</td>\n",
       "      <td>1.000000</td>\n",
       "      <td>1.000000</td>\n",
       "    </tr>\n",
       "    <tr>\n",
       "      <th>50%</th>\n",
       "      <td>18.000000</td>\n",
       "      <td>2319.500000</td>\n",
       "      <td>3.000000</td>\n",
       "      <td>3.000000</td>\n",
       "      <td>33.000000</td>\n",
       "      <td>1.000000</td>\n",
       "      <td>1.000000</td>\n",
       "      <td>1.000000</td>\n",
       "    </tr>\n",
       "    <tr>\n",
       "      <th>75%</th>\n",
       "      <td>24.000000</td>\n",
       "      <td>3972.250000</td>\n",
       "      <td>4.000000</td>\n",
       "      <td>4.000000</td>\n",
       "      <td>42.000000</td>\n",
       "      <td>2.000000</td>\n",
       "      <td>1.000000</td>\n",
       "      <td>2.000000</td>\n",
       "    </tr>\n",
       "    <tr>\n",
       "      <th>max</th>\n",
       "      <td>72.000000</td>\n",
       "      <td>18424.000000</td>\n",
       "      <td>4.000000</td>\n",
       "      <td>4.000000</td>\n",
       "      <td>75.000000</td>\n",
       "      <td>4.000000</td>\n",
       "      <td>2.000000</td>\n",
       "      <td>2.000000</td>\n",
       "    </tr>\n",
       "  </tbody>\n",
       "</table>\n",
       "</div>"
      ],
      "text/plain": [
       "       duration_months  credit_amount  disposable_rate  present_resid_months  \\\n",
       "count      1000.000000    1000.000000      1000.000000           1000.000000   \n",
       "mean         20.903000    3271.258000         2.973000              2.845000   \n",
       "std          12.058814    2822.736876         1.118715              1.103718   \n",
       "min           4.000000     250.000000         1.000000              1.000000   \n",
       "25%          12.000000    1365.500000         2.000000              2.000000   \n",
       "50%          18.000000    2319.500000         3.000000              3.000000   \n",
       "75%          24.000000    3972.250000         4.000000              4.000000   \n",
       "max          72.000000   18424.000000         4.000000              4.000000   \n",
       "\n",
       "               age  num_credits   num_people     response  \n",
       "count  1000.000000  1000.000000  1000.000000  1000.000000  \n",
       "mean     35.546000     1.407000     1.155000     1.300000  \n",
       "std      11.375469     0.577654     0.362086     0.458487  \n",
       "min      19.000000     1.000000     1.000000     1.000000  \n",
       "25%      27.000000     1.000000     1.000000     1.000000  \n",
       "50%      33.000000     1.000000     1.000000     1.000000  \n",
       "75%      42.000000     2.000000     1.000000     2.000000  \n",
       "max      75.000000     4.000000     2.000000     2.000000  "
      ]
     },
     "execution_count": 7,
     "metadata": {},
     "output_type": "execute_result"
    }
   ],
   "source": [
    "df[numerical_vars].describe()"
   ]
  },
  {
   "cell_type": "code",
   "execution_count": 8,
   "metadata": {},
   "outputs": [
    {
     "data": {
      "text/plain": [
       "<seaborn.axisgrid.PairGrid at 0x18e9a940100>"
      ]
     },
     "execution_count": 8,
     "metadata": {},
     "output_type": "execute_result"
    },
    {
     "data": {
      "image/png": "[encoded data removed]",
      "text/plain": [
       "<Figure size 593.5x540 with 12 Axes>"
      ]
     },
     "metadata": {
      "needs_background": "light"
     },
     "output_type": "display_data"
    }
   ],
   "source": [
    "import seaborn as sns\n",
    "\n",
    "sns.pairplot(df, vars=['duration_months', 'credit_amount', 'age'], hue='response', markers=[\"o\", \"D\"])"
   ]
  },
  {
   "cell_type": "code",
   "execution_count": 9,
   "metadata": {},
   "outputs": [
    {
     "data": {
      "text/plain": [
       "<matplotlib.axes._subplots.AxesSubplot at 0x18ead7f1a30>"
      ]
     },
     "execution_count": 9,
     "metadata": {},
     "output_type": "execute_result"
    },
    {
     "data": {
      "image/png": "[encoded data removed]",
      "text/plain": [
       "<Figure size 432x288 with 1 Axes>"
      ]
     },
     "metadata": {
      "needs_background": "light"
     },
     "output_type": "display_data"
    }
   ],
   "source": [
    "sns.countplot(x='sex', hue='response', data=df)"
   ]
  },
  {
   "cell_type": "code",
   "execution_count": 10,
   "metadata": {},
   "outputs": [],
   "source": [
    "from sklearn import preprocessing\n",
    "\n",
    "numerical_std = pd.DataFrame(preprocessing.StandardScaler().fit_transform(df[numerical_vars].drop(['response'], axis=1)))"
   ]
  },
  {
   "cell_type": "code",
   "execution_count": 11,
   "metadata": {},
   "outputs": [
    {
     "data": {
      "text/plain": [
       "count    1.000000e+03\n",
       "mean     6.661338e-17\n",
       "std      1.000500e+00\n",
       "min     -1.070865e+00\n",
       "25%     -6.754833e-01\n",
       "50%     -3.373443e-01\n",
       "75%      2.484620e-01\n",
       "max      5.370789e+00\n",
       "Name: 1, dtype: float64"
      ]
     },
     "execution_count": 11,
     "metadata": {},
     "output_type": "execute_result"
    }
   ],
   "source": [
    "numerical_std[1].describe()"
   ]
  },
  {
   "cell_type": "code",
   "execution_count": 12,
   "metadata": {},
   "outputs": [
    {
     "data": {
      "text/plain": [
       "<matplotlib.axes._subplots.AxesSubplot at 0x18eadd90100>"
      ]
     },
     "execution_count": 12,
     "metadata": {},
     "output_type": "execute_result"
    },
    {
     "data": {
      "image/png": "[encoded data removed]",
      "text/plain": [
       "<Figure size 432x288 with 1 Axes>"
      ]
     },
     "metadata": {
      "needs_background": "light"
     },
     "output_type": "display_data"
    }
   ],
   "source": [
    "import seaborn as sns\n",
    "\n",
    "sns.distplot(numerical_std[0], hist=False, rug=False)\n",
    "sns.distplot(numerical_std[1], hist=False, rug=False)\n",
    "sns.distplot(numerical_std[4], hist=False, rug=False)\n"
   ]
  },
  {
   "cell_type": "code",
   "execution_count": 13,
   "metadata": {},
   "outputs": [
    {
     "data": {
      "text/html": [
       "<div>\n",
       "<style scoped>\n",
       "    .dataframe tbody tr th:only-of-type {\n",
       "        vertical-align: middle;\n",
       "    }\n",
       "\n",
       "    .dataframe tbody tr th {\n",
       "        vertical-align: top;\n",
       "    }\n",
       "\n",
       "    .dataframe thead th {\n",
       "        text-align: right;\n",
       "    }\n",
       "</style>\n",
       "<table border=\"1\" class=\"dataframe\">\n",
       "  <thead>\n",
       "    <tr style=\"text-align: right;\">\n",
       "      <th></th>\n",
       "      <th>check_acc_status</th>\n",
       "      <th>duration_months</th>\n",
       "      <th>credit_his</th>\n",
       "      <th>credit_purpose</th>\n",
       "      <th>credit_amount</th>\n",
       "      <th>savings_acc</th>\n",
       "      <th>present_emp</th>\n",
       "      <th>disposable_rate</th>\n",
       "      <th>sex</th>\n",
       "      <th>other_debtors</th>\n",
       "      <th>...</th>\n",
       "      <th>property</th>\n",
       "      <th>age</th>\n",
       "      <th>other_install</th>\n",
       "      <th>housing</th>\n",
       "      <th>num_credits</th>\n",
       "      <th>job</th>\n",
       "      <th>num_people</th>\n",
       "      <th>telephone</th>\n",
       "      <th>foreign</th>\n",
       "      <th>response</th>\n",
       "    </tr>\n",
       "  </thead>\n",
       "  <tbody>\n",
       "    <tr>\n",
       "      <th>0</th>\n",
       "      <td>A11</td>\n",
       "      <td>6</td>\n",
       "      <td>A34</td>\n",
       "      <td>A43</td>\n",
       "      <td>1169</td>\n",
       "      <td>A65</td>\n",
       "      <td>A75</td>\n",
       "      <td>4</td>\n",
       "      <td>A93</td>\n",
       "      <td>A101</td>\n",
       "      <td>...</td>\n",
       "      <td>A121</td>\n",
       "      <td>67</td>\n",
       "      <td>A143</td>\n",
       "      <td>A152</td>\n",
       "      <td>0</td>\n",
       "      <td>A173</td>\n",
       "      <td>1</td>\n",
       "      <td>A192</td>\n",
       "      <td>A201</td>\n",
       "      <td>1</td>\n",
       "    </tr>\n",
       "    <tr>\n",
       "      <th>1</th>\n",
       "      <td>A12</td>\n",
       "      <td>48</td>\n",
       "      <td>A32</td>\n",
       "      <td>A43</td>\n",
       "      <td>5951</td>\n",
       "      <td>A61</td>\n",
       "      <td>A73</td>\n",
       "      <td>0</td>\n",
       "      <td>A92</td>\n",
       "      <td>A101</td>\n",
       "      <td>...</td>\n",
       "      <td>A121</td>\n",
       "      <td>22</td>\n",
       "      <td>A143</td>\n",
       "      <td>A152</td>\n",
       "      <td>1</td>\n",
       "      <td>A173</td>\n",
       "      <td>1</td>\n",
       "      <td>A191</td>\n",
       "      <td>A201</td>\n",
       "      <td>0</td>\n",
       "    </tr>\n",
       "    <tr>\n",
       "      <th>2</th>\n",
       "      <td>A14</td>\n",
       "      <td>12</td>\n",
       "      <td>A34</td>\n",
       "      <td>A46</td>\n",
       "      <td>2096</td>\n",
       "      <td>A61</td>\n",
       "      <td>A74</td>\n",
       "      <td>0</td>\n",
       "      <td>A93</td>\n",
       "      <td>A101</td>\n",
       "      <td>...</td>\n",
       "      <td>A121</td>\n",
       "      <td>49</td>\n",
       "      <td>A143</td>\n",
       "      <td>A152</td>\n",
       "      <td>1</td>\n",
       "      <td>A172</td>\n",
       "      <td>0</td>\n",
       "      <td>A191</td>\n",
       "      <td>A201</td>\n",
       "      <td>1</td>\n",
       "    </tr>\n",
       "    <tr>\n",
       "      <th>3</th>\n",
       "      <td>A11</td>\n",
       "      <td>42</td>\n",
       "      <td>A32</td>\n",
       "      <td>A42</td>\n",
       "      <td>7882</td>\n",
       "      <td>A61</td>\n",
       "      <td>A74</td>\n",
       "      <td>0</td>\n",
       "      <td>A93</td>\n",
       "      <td>A103</td>\n",
       "      <td>...</td>\n",
       "      <td>A122</td>\n",
       "      <td>45</td>\n",
       "      <td>A143</td>\n",
       "      <td>A153</td>\n",
       "      <td>1</td>\n",
       "      <td>A173</td>\n",
       "      <td>0</td>\n",
       "      <td>A191</td>\n",
       "      <td>A201</td>\n",
       "      <td>1</td>\n",
       "    </tr>\n",
       "    <tr>\n",
       "      <th>4</th>\n",
       "      <td>A11</td>\n",
       "      <td>24</td>\n",
       "      <td>A33</td>\n",
       "      <td>A40</td>\n",
       "      <td>4870</td>\n",
       "      <td>A61</td>\n",
       "      <td>A73</td>\n",
       "      <td>3</td>\n",
       "      <td>A93</td>\n",
       "      <td>A101</td>\n",
       "      <td>...</td>\n",
       "      <td>A124</td>\n",
       "      <td>53</td>\n",
       "      <td>A143</td>\n",
       "      <td>A153</td>\n",
       "      <td>0</td>\n",
       "      <td>A173</td>\n",
       "      <td>0</td>\n",
       "      <td>A191</td>\n",
       "      <td>A201</td>\n",
       "      <td>0</td>\n",
       "    </tr>\n",
       "  </tbody>\n",
       "</table>\n",
       "<p>5 rows × 21 columns</p>\n",
       "</div>"
      ],
      "text/plain": [
       "  check_acc_status  duration_months credit_his credit_purpose  credit_amount  \\\n",
       "0              A11                6        A34            A43           1169   \n",
       "1              A12               48        A32            A43           5951   \n",
       "2              A14               12        A34            A46           2096   \n",
       "3              A11               42        A32            A42           7882   \n",
       "4              A11               24        A33            A40           4870   \n",
       "\n",
       "  savings_acc present_emp  disposable_rate  sex other_debtors  ...  property  \\\n",
       "0         A65         A75                4  A93          A101  ...      A121   \n",
       "1         A61         A73                0  A92          A101  ...      A121   \n",
       "2         A61         A74                0  A93          A101  ...      A121   \n",
       "3         A61         A74                0  A93          A103  ...      A122   \n",
       "4         A61         A73                3  A93          A101  ...      A124   \n",
       "\n",
       "  age  other_install housing num_credits   job num_people  telephone foreign  \\\n",
       "0  67           A143    A152           0  A173          1       A192    A201   \n",
       "1  22           A143    A152           1  A173          1       A191    A201   \n",
       "2  49           A143    A152           1  A172          0       A191    A201   \n",
       "3  45           A143    A153           1  A173          0       A191    A201   \n",
       "4  53           A143    A153           0  A173          0       A191    A201   \n",
       "\n",
       "  response  \n",
       "0        1  \n",
       "1        0  \n",
       "2        1  \n",
       "3        1  \n",
       "4        0  \n",
       "\n",
       "[5 rows x 21 columns]"
      ]
     },
     "execution_count": 13,
     "metadata": {},
     "output_type": "execute_result"
    }
   ],
   "source": [
    "df.replace([1,2], [1,0], inplace=True)\n",
    "df['response'].value_counts()\n",
    "df.head()"
   ]
  },
  {
   "cell_type": "code",
   "execution_count": 14,
   "metadata": {},
   "outputs": [
    {
     "data": {
      "text/plain": [
       "<matplotlib.axes._subplots.AxesSubplot at 0x18eaddffb20>"
      ]
     },
     "execution_count": 14,
     "metadata": {},
     "output_type": "execute_result"
    },
    {
     "data": {
      "image/png": "[encoded data removed]",
      "text/plain": [
       "<Figure size 432x288 with 2 Axes>"
      ]
     },
     "metadata": {
      "needs_background": "light"
     },
     "output_type": "display_data"
    }
   ],
   "source": [
    "corr = numerical_std.corr()\n",
    "sns.heatmap(corr, xticklabels=corr.columns.values, yticklabels=corr.columns.values)"
   ]
  },
  {
   "cell_type": "code",
   "execution_count": 15,
   "metadata": {},
   "outputs": [
    {
     "data": {
      "text/html": [
       "<div>\n",
       "<style scoped>\n",
       "    .dataframe tbody tr th:only-of-type {\n",
       "        vertical-align: middle;\n",
       "    }\n",
       "\n",
       "    .dataframe tbody tr th {\n",
       "        vertical-align: top;\n",
       "    }\n",
       "\n",
       "    .dataframe thead th {\n",
       "        text-align: right;\n",
       "    }\n",
       "</style>\n",
       "<table border=\"1\" class=\"dataframe\">\n",
       "  <thead>\n",
       "    <tr style=\"text-align: right;\">\n",
       "      <th></th>\n",
       "      <th>0</th>\n",
       "      <th>1</th>\n",
       "      <th>2</th>\n",
       "      <th>3</th>\n",
       "      <th>4</th>\n",
       "      <th>5</th>\n",
       "      <th>6</th>\n",
       "      <th>response</th>\n",
       "      <th>check_acc_status_A11</th>\n",
       "      <th>check_acc_status_A12</th>\n",
       "      <th>...</th>\n",
       "      <th>housing_A152</th>\n",
       "      <th>housing_A153</th>\n",
       "      <th>job_A171</th>\n",
       "      <th>job_A172</th>\n",
       "      <th>job_A173</th>\n",
       "      <th>job_A174</th>\n",
       "      <th>telephone_A191</th>\n",
       "      <th>telephone_A192</th>\n",
       "      <th>foreign_A201</th>\n",
       "      <th>foreign_A202</th>\n",
       "    </tr>\n",
       "  </thead>\n",
       "  <tbody>\n",
       "    <tr>\n",
       "      <th>0</th>\n",
       "      <td>-1.236478</td>\n",
       "      <td>-0.745131</td>\n",
       "      <td>0.918477</td>\n",
       "      <td>1.046987</td>\n",
       "      <td>2.766456</td>\n",
       "      <td>1.027079</td>\n",
       "      <td>-0.428290</td>\n",
       "      <td>1</td>\n",
       "      <td>1</td>\n",
       "      <td>0</td>\n",
       "      <td>...</td>\n",
       "      <td>1</td>\n",
       "      <td>0</td>\n",
       "      <td>0</td>\n",
       "      <td>0</td>\n",
       "      <td>1</td>\n",
       "      <td>0</td>\n",
       "      <td>0</td>\n",
       "      <td>1</td>\n",
       "      <td>1</td>\n",
       "      <td>0</td>\n",
       "    </tr>\n",
       "    <tr>\n",
       "      <th>1</th>\n",
       "      <td>2.248194</td>\n",
       "      <td>0.949817</td>\n",
       "      <td>-0.870183</td>\n",
       "      <td>-0.765977</td>\n",
       "      <td>-1.191404</td>\n",
       "      <td>-0.704926</td>\n",
       "      <td>-0.428290</td>\n",
       "      <td>0</td>\n",
       "      <td>0</td>\n",
       "      <td>1</td>\n",
       "      <td>...</td>\n",
       "      <td>1</td>\n",
       "      <td>0</td>\n",
       "      <td>0</td>\n",
       "      <td>0</td>\n",
       "      <td>1</td>\n",
       "      <td>0</td>\n",
       "      <td>1</td>\n",
       "      <td>0</td>\n",
       "      <td>1</td>\n",
       "      <td>0</td>\n",
       "    </tr>\n",
       "    <tr>\n",
       "      <th>2</th>\n",
       "      <td>-0.738668</td>\n",
       "      <td>-0.416562</td>\n",
       "      <td>-0.870183</td>\n",
       "      <td>0.140505</td>\n",
       "      <td>1.183312</td>\n",
       "      <td>-0.704926</td>\n",
       "      <td>2.334869</td>\n",
       "      <td>1</td>\n",
       "      <td>0</td>\n",
       "      <td>0</td>\n",
       "      <td>...</td>\n",
       "      <td>1</td>\n",
       "      <td>0</td>\n",
       "      <td>0</td>\n",
       "      <td>1</td>\n",
       "      <td>0</td>\n",
       "      <td>0</td>\n",
       "      <td>1</td>\n",
       "      <td>0</td>\n",
       "      <td>1</td>\n",
       "      <td>0</td>\n",
       "    </tr>\n",
       "    <tr>\n",
       "      <th>3</th>\n",
       "      <td>1.750384</td>\n",
       "      <td>1.634247</td>\n",
       "      <td>-0.870183</td>\n",
       "      <td>1.046987</td>\n",
       "      <td>0.831502</td>\n",
       "      <td>-0.704926</td>\n",
       "      <td>2.334869</td>\n",
       "      <td>1</td>\n",
       "      <td>1</td>\n",
       "      <td>0</td>\n",
       "      <td>...</td>\n",
       "      <td>0</td>\n",
       "      <td>1</td>\n",
       "      <td>0</td>\n",
       "      <td>0</td>\n",
       "      <td>1</td>\n",
       "      <td>0</td>\n",
       "      <td>1</td>\n",
       "      <td>0</td>\n",
       "      <td>1</td>\n",
       "      <td>0</td>\n",
       "    </tr>\n",
       "    <tr>\n",
       "      <th>4</th>\n",
       "      <td>0.256953</td>\n",
       "      <td>0.566664</td>\n",
       "      <td>0.024147</td>\n",
       "      <td>1.046987</td>\n",
       "      <td>1.535122</td>\n",
       "      <td>1.027079</td>\n",
       "      <td>2.334869</td>\n",
       "      <td>0</td>\n",
       "      <td>1</td>\n",
       "      <td>0</td>\n",
       "      <td>...</td>\n",
       "      <td>0</td>\n",
       "      <td>1</td>\n",
       "      <td>0</td>\n",
       "      <td>0</td>\n",
       "      <td>1</td>\n",
       "      <td>0</td>\n",
       "      <td>1</td>\n",
       "      <td>0</td>\n",
       "      <td>1</td>\n",
       "      <td>0</td>\n",
       "    </tr>\n",
       "  </tbody>\n",
       "</table>\n",
       "<p>5 rows × 62 columns</p>\n",
       "</div>"
      ],
      "text/plain": [
       "          0         1         2         3         4         5         6  \\\n",
       "0 -1.236478 -0.745131  0.918477  1.046987  2.766456  1.027079 -0.428290   \n",
       "1  2.248194  0.949817 -0.870183 -0.765977 -1.191404 -0.704926 -0.428290   \n",
       "2 -0.738668 -0.416562 -0.870183  0.140505  1.183312 -0.704926  2.334869   \n",
       "3  1.750384  1.634247 -0.870183  1.046987  0.831502 -0.704926  2.334869   \n",
       "4  0.256953  0.566664  0.024147  1.046987  1.535122  1.027079  2.334869   \n",
       "\n",
       "   response  check_acc_status_A11  check_acc_status_A12  ...  housing_A152  \\\n",
       "0         1                     1                     0  ...             1   \n",
       "1         0                     0                     1  ...             1   \n",
       "2         1                     0                     0  ...             1   \n",
       "3         1                     1                     0  ...             0   \n",
       "4         0                     1                     0  ...             0   \n",
       "\n",
       "   housing_A153  job_A171  job_A172  job_A173  job_A174  telephone_A191  \\\n",
       "0             0         0         0         1         0               0   \n",
       "1             0         0         0         1         0               1   \n",
       "2             0         0         1         0         0               1   \n",
       "3             1         0         0         1         0               1   \n",
       "4             1         0         0         1         0               1   \n",
       "\n",
       "   telephone_A192  foreign_A201  foreign_A202  \n",
       "0               1             1             0  \n",
       "1               0             1             0  \n",
       "2               0             1             0  \n",
       "3               0             1             0  \n",
       "4               0             1             0  \n",
       "\n",
       "[5 rows x 62 columns]"
      ]
     },
     "execution_count": 15,
     "metadata": {},
     "output_type": "execute_result"
    }
   ],
   "source": [
    "dummy_vars = pd.get_dummies(df[categorical_vars])\n",
    "# df_clean = pd.concat([df[numerical_vars], pd.get_dummies(df[categorical_vars])], axis=1)\n",
    "df_std = pd.concat([numerical_std, df['response'], dummy_vars], axis=1)\n",
    "df_std.head()"
   ]
  },
  {
   "cell_type": "code",
   "execution_count": 16,
   "metadata": {},
   "outputs": [
    {
     "data": {
      "text/html": [
       "<div>\n",
       "<style scoped>\n",
       "    .dataframe tbody tr th:only-of-type {\n",
       "        vertical-align: middle;\n",
       "    }\n",
       "\n",
       "    .dataframe tbody tr th {\n",
       "        vertical-align: top;\n",
       "    }\n",
       "\n",
       "    .dataframe thead th {\n",
       "        text-align: right;\n",
       "    }\n",
       "</style>\n",
       "<table border=\"1\" class=\"dataframe\">\n",
       "  <thead>\n",
       "    <tr style=\"text-align: right;\">\n",
       "      <th></th>\n",
       "      <th>0</th>\n",
       "      <th>1</th>\n",
       "      <th>2</th>\n",
       "      <th>3</th>\n",
       "      <th>4</th>\n",
       "      <th>5</th>\n",
       "      <th>6</th>\n",
       "      <th>response</th>\n",
       "      <th>check_acc_status_A11</th>\n",
       "      <th>check_acc_status_A12</th>\n",
       "      <th>...</th>\n",
       "      <th>housing_A152</th>\n",
       "      <th>housing_A153</th>\n",
       "      <th>job_A171</th>\n",
       "      <th>job_A172</th>\n",
       "      <th>job_A173</th>\n",
       "      <th>job_A174</th>\n",
       "      <th>telephone_A191</th>\n",
       "      <th>telephone_A192</th>\n",
       "      <th>foreign_A201</th>\n",
       "      <th>foreign_A202</th>\n",
       "    </tr>\n",
       "  </thead>\n",
       "  <tbody>\n",
       "    <tr>\n",
       "      <th>0</th>\n",
       "      <td>1.000000</td>\n",
       "      <td>0.624984</td>\n",
       "      <td>0.074749</td>\n",
       "      <td>0.034067</td>\n",
       "      <td>-0.036136</td>\n",
       "      <td>-0.011284</td>\n",
       "      <td>-0.023834</td>\n",
       "      <td>-0.214927</td>\n",
       "      <td>0.022244</td>\n",
       "      <td>0.089452</td>\n",
       "      <td>...</td>\n",
       "      <td>-0.075169</td>\n",
       "      <td>0.189117</td>\n",
       "      <td>-0.044043</td>\n",
       "      <td>-0.181203</td>\n",
       "      <td>0.055010</td>\n",
       "      <td>0.147515</td>\n",
       "      <td>-0.164718</td>\n",
       "      <td>0.164718</td>\n",
       "      <td>0.138196</td>\n",
       "      <td>-0.138196</td>\n",
       "    </tr>\n",
       "    <tr>\n",
       "      <th>1</th>\n",
       "      <td>0.624984</td>\n",
       "      <td>1.000000</td>\n",
       "      <td>-0.271316</td>\n",
       "      <td>0.028926</td>\n",
       "      <td>0.032716</td>\n",
       "      <td>0.020795</td>\n",
       "      <td>0.017142</td>\n",
       "      <td>-0.154739</td>\n",
       "      <td>-0.020912</td>\n",
       "      <td>0.119612</td>\n",
       "      <td>...</td>\n",
       "      <td>-0.117497</td>\n",
       "      <td>0.201643</td>\n",
       "      <td>-0.027969</td>\n",
       "      <td>-0.161757</td>\n",
       "      <td>-0.092636</td>\n",
       "      <td>0.319715</td>\n",
       "      <td>-0.276995</td>\n",
       "      <td>0.276995</td>\n",
       "      <td>0.050050</td>\n",
       "      <td>-0.050050</td>\n",
       "    </tr>\n",
       "    <tr>\n",
       "      <th>2</th>\n",
       "      <td>0.074749</td>\n",
       "      <td>-0.271316</td>\n",
       "      <td>1.000000</td>\n",
       "      <td>0.049302</td>\n",
       "      <td>0.058266</td>\n",
       "      <td>0.021669</td>\n",
       "      <td>-0.071207</td>\n",
       "      <td>-0.072404</td>\n",
       "      <td>0.046917</td>\n",
       "      <td>-0.051906</td>\n",
       "      <td>...</td>\n",
       "      <td>0.049922</td>\n",
       "      <td>0.040098</td>\n",
       "      <td>-0.087834</td>\n",
       "      <td>-0.057237</td>\n",
       "      <td>0.042623</td>\n",
       "      <td>0.042805</td>\n",
       "      <td>-0.014413</td>\n",
       "      <td>0.014413</td>\n",
       "      <td>0.090024</td>\n",
       "      <td>-0.090024</td>\n",
       "    </tr>\n",
       "    <tr>\n",
       "      <th>3</th>\n",
       "      <td>0.034067</td>\n",
       "      <td>0.028926</td>\n",
       "      <td>0.049302</td>\n",
       "      <td>1.000000</td>\n",
       "      <td>0.266419</td>\n",
       "      <td>0.089625</td>\n",
       "      <td>0.042643</td>\n",
       "      <td>-0.002967</td>\n",
       "      <td>0.088350</td>\n",
       "      <td>-0.055817</td>\n",
       "      <td>...</td>\n",
       "      <td>-0.297547</td>\n",
       "      <td>0.227044</td>\n",
       "      <td>-0.034545</td>\n",
       "      <td>0.009065</td>\n",
       "      <td>-0.000657</td>\n",
       "      <td>0.004952</td>\n",
       "      <td>-0.095359</td>\n",
       "      <td>0.095359</td>\n",
       "      <td>0.054097</td>\n",
       "      <td>-0.054097</td>\n",
       "    </tr>\n",
       "    <tr>\n",
       "      <th>4</th>\n",
       "      <td>-0.036136</td>\n",
       "      <td>0.032716</td>\n",
       "      <td>0.058266</td>\n",
       "      <td>0.266419</td>\n",
       "      <td>1.000000</td>\n",
       "      <td>0.149254</td>\n",
       "      <td>0.118201</td>\n",
       "      <td>0.091127</td>\n",
       "      <td>-0.011162</td>\n",
       "      <td>-0.078121</td>\n",
       "      <td>...</td>\n",
       "      <td>0.006553</td>\n",
       "      <td>0.253058</td>\n",
       "      <td>0.059954</td>\n",
       "      <td>0.043712</td>\n",
       "      <td>-0.148283</td>\n",
       "      <td>0.127605</td>\n",
       "      <td>-0.145259</td>\n",
       "      <td>0.145259</td>\n",
       "      <td>0.006151</td>\n",
       "      <td>-0.006151</td>\n",
       "    </tr>\n",
       "    <tr>\n",
       "      <th>...</th>\n",
       "      <td>...</td>\n",
       "      <td>...</td>\n",
       "      <td>...</td>\n",
       "      <td>...</td>\n",
       "      <td>...</td>\n",
       "      <td>...</td>\n",
       "      <td>...</td>\n",
       "      <td>...</td>\n",
       "      <td>...</td>\n",
       "      <td>...</td>\n",
       "      <td>...</td>\n",
       "      <td>...</td>\n",
       "      <td>...</td>\n",
       "      <td>...</td>\n",
       "      <td>...</td>\n",
       "      <td>...</td>\n",
       "      <td>...</td>\n",
       "      <td>...</td>\n",
       "      <td>...</td>\n",
       "      <td>...</td>\n",
       "      <td>...</td>\n",
       "    </tr>\n",
       "    <tr>\n",
       "      <th>job_A174</th>\n",
       "      <td>0.147515</td>\n",
       "      <td>0.319715</td>\n",
       "      <td>0.042805</td>\n",
       "      <td>0.004952</td>\n",
       "      <td>0.127605</td>\n",
       "      <td>-0.010906</td>\n",
       "      <td>-0.015096</td>\n",
       "      <td>-0.040559</td>\n",
       "      <td>-0.022427</td>\n",
       "      <td>0.051999</td>\n",
       "      <td>...</td>\n",
       "      <td>-0.071741</td>\n",
       "      <td>0.154388</td>\n",
       "      <td>-0.062511</td>\n",
       "      <td>-0.208392</td>\n",
       "      <td>-0.543852</td>\n",
       "      <td>1.000000</td>\n",
       "      <td>-0.385706</td>\n",
       "      <td>0.385706</td>\n",
       "      <td>0.051858</td>\n",
       "      <td>-0.051858</td>\n",
       "    </tr>\n",
       "    <tr>\n",
       "      <th>telephone_A191</th>\n",
       "      <td>-0.164718</td>\n",
       "      <td>-0.276995</td>\n",
       "      <td>-0.014413</td>\n",
       "      <td>-0.095359</td>\n",
       "      <td>-0.145259</td>\n",
       "      <td>-0.065553</td>\n",
       "      <td>0.014753</td>\n",
       "      <td>-0.036466</td>\n",
       "      <td>0.067149</td>\n",
       "      <td>-0.015276</td>\n",
       "      <td>...</td>\n",
       "      <td>0.036275</td>\n",
       "      <td>-0.114036</td>\n",
       "      <td>0.040124</td>\n",
       "      <td>0.253720</td>\n",
       "      <td>0.061289</td>\n",
       "      <td>-0.385706</td>\n",
       "      <td>1.000000</td>\n",
       "      <td>-1.000000</td>\n",
       "      <td>-0.107401</td>\n",
       "      <td>0.107401</td>\n",
       "    </tr>\n",
       "    <tr>\n",
       "      <th>telephone_A192</th>\n",
       "      <td>0.164718</td>\n",
       "      <td>0.276995</td>\n",
       "      <td>0.014413</td>\n",
       "      <td>0.095359</td>\n",
       "      <td>0.145259</td>\n",
       "      <td>0.065553</td>\n",
       "      <td>-0.014753</td>\n",
       "      <td>0.036466</td>\n",
       "      <td>-0.067149</td>\n",
       "      <td>0.015276</td>\n",
       "      <td>...</td>\n",
       "      <td>-0.036275</td>\n",
       "      <td>0.114036</td>\n",
       "      <td>-0.040124</td>\n",
       "      <td>-0.253720</td>\n",
       "      <td>-0.061289</td>\n",
       "      <td>0.385706</td>\n",
       "      <td>-1.000000</td>\n",
       "      <td>1.000000</td>\n",
       "      <td>0.107401</td>\n",
       "      <td>-0.107401</td>\n",
       "    </tr>\n",
       "    <tr>\n",
       "      <th>foreign_A201</th>\n",
       "      <td>0.138196</td>\n",
       "      <td>0.050050</td>\n",
       "      <td>0.090024</td>\n",
       "      <td>0.054097</td>\n",
       "      <td>0.006151</td>\n",
       "      <td>0.009717</td>\n",
       "      <td>-0.077071</td>\n",
       "      <td>-0.082079</td>\n",
       "      <td>-0.057751</td>\n",
       "      <td>0.059172</td>\n",
       "      <td>...</td>\n",
       "      <td>-0.018960</td>\n",
       "      <td>0.068205</td>\n",
       "      <td>-0.042834</td>\n",
       "      <td>-0.087412</td>\n",
       "      <td>0.047292</td>\n",
       "      <td>0.051858</td>\n",
       "      <td>-0.107401</td>\n",
       "      <td>0.107401</td>\n",
       "      <td>1.000000</td>\n",
       "      <td>-1.000000</td>\n",
       "    </tr>\n",
       "    <tr>\n",
       "      <th>foreign_A202</th>\n",
       "      <td>-0.138196</td>\n",
       "      <td>-0.050050</td>\n",
       "      <td>-0.090024</td>\n",
       "      <td>-0.054097</td>\n",
       "      <td>-0.006151</td>\n",
       "      <td>-0.009717</td>\n",
       "      <td>0.077071</td>\n",
       "      <td>0.082079</td>\n",
       "      <td>0.057751</td>\n",
       "      <td>-0.059172</td>\n",
       "      <td>...</td>\n",
       "      <td>0.018960</td>\n",
       "      <td>-0.068205</td>\n",
       "      <td>0.042834</td>\n",
       "      <td>0.087412</td>\n",
       "      <td>-0.047292</td>\n",
       "      <td>-0.051858</td>\n",
       "      <td>0.107401</td>\n",
       "      <td>-0.107401</td>\n",
       "      <td>-1.000000</td>\n",
       "      <td>1.000000</td>\n",
       "    </tr>\n",
       "  </tbody>\n",
       "</table>\n",
       "<p>62 rows × 62 columns</p>\n",
       "</div>"
      ],
      "text/plain": [
       "                       0         1         2         3         4         5  \\\n",
       "0               1.000000  0.624984  0.074749  0.034067 -0.036136 -0.011284   \n",
       "1               0.624984  1.000000 -0.271316  0.028926  0.032716  0.020795   \n",
       "2               0.074749 -0.271316  1.000000  0.049302  0.058266  0.021669   \n",
       "3               0.034067  0.028926  0.049302  1.000000  0.266419  0.089625   \n",
       "4              -0.036136  0.032716  0.058266  0.266419  1.000000  0.149254   \n",
       "...                  ...       ...       ...       ...       ...       ...   \n",
       "job_A174        0.147515  0.319715  0.042805  0.004952  0.127605 -0.010906   \n",
       "telephone_A191 -0.164718 -0.276995 -0.014413 -0.095359 -0.145259 -0.065553   \n",
       "telephone_A192  0.164718  0.276995  0.014413  0.095359  0.145259  0.065553   \n",
       "foreign_A201    0.138196  0.050050  0.090024  0.054097  0.006151  0.009717   \n",
       "foreign_A202   -0.138196 -0.050050 -0.090024 -0.054097 -0.006151 -0.009717   \n",
       "\n",
       "                       6  response  check_acc_status_A11  \\\n",
       "0              -0.023834 -0.214927              0.022244   \n",
       "1               0.017142 -0.154739             -0.020912   \n",
       "2              -0.071207 -0.072404              0.046917   \n",
       "3               0.042643 -0.002967              0.088350   \n",
       "4               0.118201  0.091127             -0.011162   \n",
       "...                  ...       ...                   ...   \n",
       "job_A174       -0.015096 -0.040559             -0.022427   \n",
       "telephone_A191  0.014753 -0.036466              0.067149   \n",
       "telephone_A192 -0.014753  0.036466             -0.067149   \n",
       "foreign_A201   -0.077071 -0.082079             -0.057751   \n",
       "foreign_A202    0.077071  0.082079              0.057751   \n",
       "\n",
       "                check_acc_status_A12  ...  housing_A152  housing_A153  \\\n",
       "0                           0.089452  ...     -0.075169      0.189117   \n",
       "1                           0.119612  ...     -0.117497      0.201643   \n",
       "2                          -0.051906  ...      0.049922      0.040098   \n",
       "3                          -0.055817  ...     -0.297547      0.227044   \n",
       "4                          -0.078121  ...      0.006553      0.253058   \n",
       "...                              ...  ...           ...           ...   \n",
       "job_A174                    0.051999  ...     -0.071741      0.154388   \n",
       "telephone_A191             -0.015276  ...      0.036275     -0.114036   \n",
       "telephone_A192              0.015276  ...     -0.036275      0.114036   \n",
       "foreign_A201                0.059172  ...     -0.018960      0.068205   \n",
       "foreign_A202               -0.059172  ...      0.018960     -0.068205   \n",
       "\n",
       "                job_A171  job_A172  job_A173  job_A174  telephone_A191  \\\n",
       "0              -0.044043 -0.181203  0.055010  0.147515       -0.164718   \n",
       "1              -0.027969 -0.161757 -0.092636  0.319715       -0.276995   \n",
       "2              -0.087834 -0.057237  0.042623  0.042805       -0.014413   \n",
       "3              -0.034545  0.009065 -0.000657  0.004952       -0.095359   \n",
       "4               0.059954  0.043712 -0.148283  0.127605       -0.145259   \n",
       "...                  ...       ...       ...       ...             ...   \n",
       "job_A174       -0.062511 -0.208392 -0.543852  1.000000       -0.385706   \n",
       "telephone_A191  0.040124  0.253720  0.061289 -0.385706        1.000000   \n",
       "telephone_A192 -0.040124 -0.253720 -0.061289  0.385706       -1.000000   \n",
       "foreign_A201   -0.042834 -0.087412  0.047292  0.051858       -0.107401   \n",
       "foreign_A202    0.042834  0.087412 -0.047292 -0.051858        0.107401   \n",
       "\n",
       "                telephone_A192  foreign_A201  foreign_A202  \n",
       "0                     0.164718      0.138196     -0.138196  \n",
       "1                     0.276995      0.050050     -0.050050  \n",
       "2                     0.014413      0.090024     -0.090024  \n",
       "3                     0.095359      0.054097     -0.054097  \n",
       "4                     0.145259      0.006151     -0.006151  \n",
       "...                        ...           ...           ...  \n",
       "job_A174              0.385706      0.051858     -0.051858  \n",
       "telephone_A191       -1.000000     -0.107401      0.107401  \n",
       "telephone_A192        1.000000      0.107401     -0.107401  \n",
       "foreign_A201          0.107401      1.000000     -1.000000  \n",
       "foreign_A202         -0.107401     -1.000000      1.000000  \n",
       "\n",
       "[62 rows x 62 columns]"
      ]
     },
     "execution_count": 16,
     "metadata": {},
     "output_type": "execute_result"
    }
   ],
   "source": [
    "df_std.corr()"
   ]
  },
  {
   "cell_type": "code",
   "execution_count": 17,
   "metadata": {},
   "outputs": [],
   "source": [
    "from sklearn.model_selection import train_test_split\n",
    "\n",
    "x = df_std.drop('response', axis=1)\n",
    "y = df['response']\n",
    "\n",
    "n_classes = y.shape[0]\n",
    "\n",
    "x_train, x_test, y_train, y_test = train_test_split(x, y, train_size=0.7, random_state=42)"
   ]
  },
  {
   "cell_type": "code",
   "execution_count": 18,
   "metadata": {},
   "outputs": [],
   "source": [
    "from sklearn import tree\n",
    "\n",
    "clf = tree.DecisionTreeClassifier(max_depth=None, random_state=0)\n",
    "clf = clf.fit(x_train,y_train)"
   ]
  },
  {
   "cell_type": "code",
   "execution_count": 19,
   "metadata": {},
   "outputs": [
    {
     "data": {
      "text/plain": [
       "[Text(228.89140625, 211.7178947368421, 'X[10] <= 0.5\\ngini = 0.419\\nsamples = 700\\nvalue = [209, 491]'),\n",
       " Text(170.43003472222222, 200.2736842105263, 'X[0] <= 1.004\\ngini = 0.484\\nsamples = 425\\nvalue = [174, 251]'),\n",
       " Text(121.10451388888889, 188.82947368421054, 'X[16] <= 0.5\\ngini = 0.458\\nsamples = 343\\nvalue = [122, 221]'),\n",
       " Text(86.00347222222223, 177.38526315789474, 'X[1] <= 2.731\\ngini = 0.415\\nsamples = 245\\nvalue = [72, 173]'),\n",
       " Text(83.24791666666667, 165.94105263157894, 'X[11] <= 0.5\\ngini = 0.402\\nsamples = 240\\nvalue = [67, 173]'),\n",
       " Text(69.01805555555555, 154.49684210526317, 'X[23] <= 0.5\\ngini = 0.381\\nsamples = 223\\nvalue = [57, 166]'),\n",
       " Text(54.33611111111111, 143.05263157894737, 'X[4] <= -0.884\\ngini = 0.362\\nsamples = 211\\nvalue = [50, 161]'),\n",
       " Text(39.266666666666666, 131.60842105263157, 'X[21] <= 0.5\\ngini = 0.458\\nsamples = 59\\nvalue = [21, 38]'),\n",
       " Text(36.51111111111111, 120.16421052631578, 'X[47] <= 0.5\\ngini = 0.444\\nsamples = 57\\nvalue = [19, 38]'),\n",
       " Text(28.933333333333334, 108.72, 'X[1] <= 0.072\\ngini = 0.408\\nsamples = 49\\nvalue = [14, 35]'),\n",
       " Text(26.177777777777777, 97.27578947368421, 'X[39] <= 0.5\\ngini = 0.444\\nsamples = 42\\nvalue = [14, 28]'),\n",
       " Text(19.288888888888888, 85.83157894736843, 'X[45] <= 0.5\\ngini = 0.383\\nsamples = 31\\nvalue = [8, 23]'),\n",
       " Text(13.777777777777779, 74.38736842105263, 'X[0] <= 0.381\\ngini = 0.236\\nsamples = 22\\nvalue = [3, 19]'),\n",
       " Text(11.022222222222222, 62.943157894736856, 'X[9] <= 0.5\\ngini = 0.172\\nsamples = 21\\nvalue = [2, 19]'),\n",
       " Text(8.266666666666666, 51.49894736842106, 'X[0] <= -1.029\\ngini = 0.095\\nsamples = 20\\nvalue = [1, 19]'),\n",
       " Text(5.511111111111111, 40.05473684210526, 'X[0] <= -1.154\\ngini = 0.5\\nsamples = 2\\nvalue = [1, 1]'),\n",
       " Text(2.7555555555555555, 28.610526315789485, 'gini = 0.0\\nsamples = 1\\nvalue = [0, 1]'),\n",
       " Text(8.266666666666666, 28.610526315789485, 'gini = 0.0\\nsamples = 1\\nvalue = [1, 0]'),\n",
       " Text(11.022222222222222, 40.05473684210526, 'gini = 0.0\\nsamples = 18\\nvalue = [0, 18]'),\n",
       " Text(13.777777777777779, 51.49894736842106, 'gini = 0.0\\nsamples = 1\\nvalue = [1, 0]'),\n",
       " Text(16.53333333333333, 62.943157894736856, 'gini = 0.0\\nsamples = 1\\nvalue = [1, 0]'),\n",
       " Text(24.8, 74.38736842105263, 'X[37] <= 0.5\\ngini = 0.494\\nsamples = 9\\nvalue = [5, 4]'),\n",
       " Text(22.044444444444444, 62.943157894736856, 'gini = 0.0\\nsamples = 3\\nvalue = [3, 0]'),\n",
       " Text(27.555555555555557, 62.943157894736856, 'X[0] <= -0.863\\ngini = 0.444\\nsamples = 6\\nvalue = [2, 4]'),\n",
       " Text(24.8, 51.49894736842106, 'gini = 0.0\\nsamples = 1\\nvalue = [1, 0]'),\n",
       " Text(30.31111111111111, 51.49894736842106, 'X[1] <= -0.02\\ngini = 0.32\\nsamples = 5\\nvalue = [1, 4]'),\n",
       " Text(27.555555555555557, 40.05473684210526, 'gini = 0.0\\nsamples = 4\\nvalue = [0, 4]'),\n",
       " Text(33.06666666666666, 40.05473684210526, 'gini = 0.0\\nsamples = 1\\nvalue = [1, 0]'),\n",
       " Text(33.06666666666666, 85.83157894736843, 'X[55] <= 0.5\\ngini = 0.496\\nsamples = 11\\nvalue = [6, 5]'),\n",
       " Text(30.31111111111111, 74.38736842105263, 'gini = 0.0\\nsamples = 3\\nvalue = [0, 3]'),\n",
       " Text(35.82222222222222, 74.38736842105263, 'X[4] <= -1.059\\ngini = 0.375\\nsamples = 8\\nvalue = [6, 2]'),\n",
       " Text(33.06666666666666, 62.943157894736856, 'gini = 0.0\\nsamples = 5\\nvalue = [5, 0]'),\n",
       " Text(38.577777777777776, 62.943157894736856, 'X[57] <= 0.5\\ngini = 0.444\\nsamples = 3\\nvalue = [1, 2]'),\n",
       " Text(35.82222222222222, 51.49894736842106, 'gini = 0.0\\nsamples = 1\\nvalue = [1, 0]'),\n",
       " Text(41.333333333333336, 51.49894736842106, 'gini = 0.0\\nsamples = 2\\nvalue = [0, 2]'),\n",
       " Text(31.68888888888889, 97.27578947368421, 'gini = 0.0\\nsamples = 7\\nvalue = [0, 7]'),\n",
       " Text(44.08888888888889, 108.72, 'X[3] <= 0.141\\ngini = 0.469\\nsamples = 8\\nvalue = [5, 3]'),\n",
       " Text(41.333333333333336, 97.27578947368421, 'X[8] <= 0.5\\ngini = 0.375\\nsamples = 4\\nvalue = [1, 3]'),\n",
       " Text(38.577777777777776, 85.83157894736843, 'gini = 0.0\\nsamples = 3\\nvalue = [0, 3]'),\n",
       " Text(44.08888888888889, 85.83157894736843, 'gini = 0.0\\nsamples = 1\\nvalue = [1, 0]'),\n",
       " Text(46.84444444444444, 97.27578947368421, 'gini = 0.0\\nsamples = 4\\nvalue = [4, 0]'),\n",
       " Text(42.02222222222222, 120.16421052631578, 'gini = 0.0\\nsamples = 2\\nvalue = [2, 0]'),\n",
       " Text(69.40555555555555, 131.60842105263157, 'X[42] <= 0.5\\ngini = 0.309\\nsamples = 152\\nvalue = [29, 123]'),\n",
       " Text(66.65, 120.16421052631578, 'X[2] <= -0.423\\ngini = 0.341\\nsamples = 133\\nvalue = [29, 104]'),\n",
       " Text(57.86666666666667, 108.72, 'X[0] <= 0.63\\ngini = 0.223\\nsamples = 47\\nvalue = [6, 41]'),\n",
       " Text(55.111111111111114, 97.27578947368421, 'X[12] <= 0.5\\ngini = 0.162\\nsamples = 45\\nvalue = [4, 41]'),\n",
       " Text(52.355555555555554, 85.83157894736843, 'X[56] <= 0.5\\ngini = 0.127\\nsamples = 44\\nvalue = [3, 41]'),\n",
       " Text(46.84444444444444, 74.38736842105263, 'X[6] <= 0.953\\ngini = 0.053\\nsamples = 37\\nvalue = [1, 36]'),\n",
       " Text(44.08888888888889, 62.943157894736856, 'gini = 0.0\\nsamples = 32\\nvalue = [0, 32]'),\n",
       " Text(49.6, 62.943157894736856, 'X[37] <= 0.5\\ngini = 0.32\\nsamples = 5\\nvalue = [1, 4]'),\n",
       " Text(46.84444444444444, 51.49894736842106, 'gini = 0.0\\nsamples = 4\\nvalue = [0, 4]'),\n",
       " Text(52.355555555555554, 51.49894736842106, 'gini = 0.0\\nsamples = 1\\nvalue = [1, 0]'),\n",
       " Text(57.86666666666667, 74.38736842105263, 'X[0] <= -0.49\\ngini = 0.408\\nsamples = 7\\nvalue = [2, 5]'),\n",
       " Text(55.111111111111114, 62.943157894736856, 'gini = 0.0\\nsamples = 2\\nvalue = [2, 0]'),\n",
       " Text(60.62222222222222, 62.943157894736856, 'gini = 0.0\\nsamples = 5\\nvalue = [0, 5]'),\n",
       " Text(57.86666666666667, 85.83157894736843, 'gini = 0.0\\nsamples = 1\\nvalue = [1, 0]'),\n",
       " Text(60.62222222222222, 97.27578947368421, 'gini = 0.0\\nsamples = 2\\nvalue = [2, 0]'),\n",
       " Text(75.43333333333334, 108.72, 'X[0] <= -0.822\\ngini = 0.392\\nsamples = 86\\nvalue = [23, 63]'),\n",
       " Text(72.67777777777778, 97.27578947368421, 'gini = 0.0\\nsamples = 13\\nvalue = [0, 13]'),\n",
       " Text(78.18888888888888, 97.27578947368421, 'X[0] <= 0.381\\ngini = 0.432\\nsamples = 73\\nvalue = [23, 50]'),\n",
       " Text(75.43333333333334, 85.83157894736843, 'X[4] <= 0.48\\ngini = 0.467\\nsamples = 62\\nvalue = [23, 39]'),\n",
       " Text(69.57777777777778, 74.38736842105263, 'X[1] <= 0.308\\ngini = 0.492\\nsamples = 48\\nvalue = [21, 27]'),\n",
       " Text(66.82222222222222, 62.943157894736856, 'X[51] <= 0.5\\ngini = 0.5\\nsamples = 42\\nvalue = [21, 21]'),\n",
       " Text(57.86666666666667, 51.49894736842106, 'X[41] <= 0.5\\ngini = 0.198\\nsamples = 9\\nvalue = [8, 1]'),\n",
       " Text(55.111111111111114, 40.05473684210526, 'gini = 0.0\\nsamples = 8\\nvalue = [8, 0]'),\n",
       " Text(60.62222222222222, 40.05473684210526, 'gini = 0.0\\nsamples = 1\\nvalue = [0, 1]'),\n",
       " Text(75.77777777777777, 51.49894736842106, 'X[0] <= -0.365\\ngini = 0.478\\nsamples = 33\\nvalue = [13, 20]'),\n",
       " Text(66.13333333333333, 40.05473684210526, 'X[1] <= -0.922\\ngini = 0.245\\nsamples = 14\\nvalue = [2, 12]'),\n",
       " Text(63.37777777777778, 28.610526315789485, 'gini = 0.0\\nsamples = 1\\nvalue = [1, 0]'),\n",
       " Text(68.88888888888889, 28.610526315789485, 'X[19] <= 0.5\\ngini = 0.142\\nsamples = 13\\nvalue = [1, 12]'),\n",
       " Text(66.13333333333333, 17.166315789473686, 'gini = 0.0\\nsamples = 11\\nvalue = [0, 11]'),\n",
       " Text(71.64444444444445, 17.166315789473686, 'X[4] <= -0.048\\ngini = 0.5\\nsamples = 2\\nvalue = [1, 1]'),\n",
       " Text(68.88888888888889, 5.722105263157886, 'gini = 0.0\\nsamples = 1\\nvalue = [0, 1]'),\n",
       " Text(74.4, 5.722105263157886, 'gini = 0.0\\nsamples = 1\\nvalue = [1, 0]'),\n",
       " Text(85.42222222222222, 40.05473684210526, 'X[26] <= 0.5\\ngini = 0.488\\nsamples = 19\\nvalue = [11, 8]'),\n",
       " Text(79.91111111111111, 28.610526315789485, 'X[1] <= -0.674\\ngini = 0.42\\nsamples = 10\\nvalue = [3, 7]'),\n",
       " Text(77.15555555555555, 17.166315789473686, 'gini = 0.0\\nsamples = 3\\nvalue = [3, 0]'),\n",
       " Text(82.66666666666667, 17.166315789473686, 'gini = 0.0\\nsamples = 7\\nvalue = [0, 7]'),\n",
       " Text(90.93333333333334, 28.610526315789485, 'X[1] <= 0.11\\ngini = 0.198\\nsamples = 9\\nvalue = [8, 1]'),\n",
       " Text(88.17777777777778, 17.166315789473686, 'gini = 0.0\\nsamples = 8\\nvalue = [8, 0]'),\n",
       " Text(93.68888888888888, 17.166315789473686, 'gini = 0.0\\nsamples = 1\\nvalue = [0, 1]'),\n",
       " Text(72.33333333333333, 62.943157894736856, 'gini = 0.0\\nsamples = 6\\nvalue = [0, 6]'),\n",
       " Text(81.28888888888889, 74.38736842105263, 'X[33] <= 0.5\\ngini = 0.245\\nsamples = 14\\nvalue = [2, 12]'),\n",
       " Text(78.53333333333333, 62.943157894736856, 'gini = 0.0\\nsamples = 11\\nvalue = [0, 11]'),\n",
       " Text(84.04444444444444, 62.943157894736856, 'X[2] <= 0.471\\ngini = 0.444\\nsamples = 3\\nvalue = [2, 1]'),\n",
       " Text(81.28888888888889, 51.49894736842106, 'gini = 0.0\\nsamples = 1\\nvalue = [0, 1]'),\n",
       " Text(86.8, 51.49894736842106, 'gini = 0.0\\nsamples = 2\\nvalue = [2, 0]'),\n",
       " Text(80.94444444444444, 85.83157894736843, 'gini = 0.0\\nsamples = 11\\nvalue = [0, 11]'),\n",
       " Text(72.16111111111111, 120.16421052631578, 'gini = 0.0\\nsamples = 19\\nvalue = [0, 19]'),\n",
       " Text(83.7, 143.05263157894737, 'X[0] <= -0.614\\ngini = 0.486\\nsamples = 12\\nvalue = [7, 5]'),\n",
       " Text(80.94444444444444, 131.60842105263157, 'gini = 0.0\\nsamples = 5\\nvalue = [5, 0]'),\n",
       " Text(86.45555555555555, 131.60842105263157, 'X[55] <= 0.5\\ngini = 0.408\\nsamples = 7\\nvalue = [2, 5]'),\n",
       " Text(83.7, 120.16421052631578, 'X[1] <= -0.496\\ngini = 0.444\\nsamples = 3\\nvalue = [2, 1]'),\n",
       " Text(80.94444444444444, 108.72, 'gini = 0.0\\nsamples = 2\\nvalue = [2, 0]'),\n",
       " Text(86.45555555555555, 108.72, 'gini = 0.0\\nsamples = 1\\nvalue = [0, 1]'),\n",
       " Text(89.21111111111111, 120.16421052631578, 'gini = 0.0\\nsamples = 4\\nvalue = [0, 4]'),\n",
       " Text(97.47777777777777, 154.49684210526317, 'X[51] <= 0.5\\ngini = 0.484\\nsamples = 17\\nvalue = [10, 7]'),\n",
       " Text(94.72222222222223, 143.05263157894737, 'gini = 0.0\\nsamples = 6\\nvalue = [6, 0]'),\n",
       " Text(100.23333333333333, 143.05263157894737, 'X[4] <= -0.18\\ngini = 0.463\\nsamples = 11\\nvalue = [4, 7]'),\n",
       " Text(97.47777777777777, 131.60842105263157, 'X[1] <= -0.713\\ngini = 0.219\\nsamples = 8\\nvalue = [1, 7]'),\n",
       " Text(94.72222222222223, 120.16421052631578, 'gini = 0.0\\nsamples = 1\\nvalue = [1, 0]'),\n",
       " Text(100.23333333333333, 120.16421052631578, 'gini = 0.0\\nsamples = 7\\nvalue = [0, 7]'),\n",
       " Text(102.9888888888889, 131.60842105263157, 'gini = 0.0\\nsamples = 3\\nvalue = [3, 0]'),\n",
       " Text(88.75902777777777, 165.94105263157894, 'gini = 0.0\\nsamples = 5\\nvalue = [5, 0]'),\n",
       " Text(156.20555555555555, 177.38526315789474, 'X[15] <= 0.5\\ngini = 0.5\\nsamples = 98\\nvalue = [50, 48]'),\n",
       " Text(141.9111111111111, 165.94105263157894, 'X[0] <= 0.133\\ngini = 0.451\\nsamples = 64\\nvalue = [42, 22]'),\n",
       " Text(129.85555555555555, 154.49684210526317, 'X[1] <= -0.7\\ngini = 0.492\\nsamples = 48\\nvalue = [27, 21]'),\n",
       " Text(114.0111111111111, 143.05263157894737, 'X[0] <= -1.112\\ngini = 0.291\\nsamples = 17\\nvalue = [14, 3]'),\n",
       " Text(108.5, 131.60842105263157, 'X[8] <= 0.5\\ngini = 0.444\\nsamples = 3\\nvalue = [1, 2]'),\n",
       " Text(105.74444444444444, 120.16421052631578, 'gini = 0.0\\nsamples = 2\\nvalue = [0, 2]'),\n",
       " Text(111.25555555555556, 120.16421052631578, 'gini = 0.0\\nsamples = 1\\nvalue = [1, 0]'),\n",
       " Text(119.52222222222223, 131.60842105263157, 'X[39] <= 0.5\\ngini = 0.133\\nsamples = 14\\nvalue = [13, 1]'),\n",
       " Text(116.76666666666667, 120.16421052631578, 'gini = 0.0\\nsamples = 10\\nvalue = [10, 0]'),\n",
       " Text(122.27777777777777, 120.16421052631578, 'X[4] <= -0.84\\ngini = 0.375\\nsamples = 4\\nvalue = [3, 1]'),\n",
       " Text(119.52222222222223, 108.72, 'gini = 0.0\\nsamples = 3\\nvalue = [3, 0]'),\n",
       " Text(125.03333333333333, 108.72, 'gini = 0.0\\nsamples = 1\\nvalue = [0, 1]'),\n",
       " Text(145.7, 143.05263157894737, 'X[12] <= 0.5\\ngini = 0.487\\nsamples = 31\\nvalue = [13, 18]'),\n",
       " Text(142.94444444444446, 131.60842105263157, 'X[1] <= 1.756\\ngini = 0.444\\nsamples = 27\\nvalue = [9, 18]'),\n",
       " Text(140.1888888888889, 120.16421052631578, 'X[32] <= 0.5\\ngini = 0.403\\nsamples = 25\\nvalue = [7, 18]'),\n",
       " Text(130.54444444444445, 108.72, 'X[55] <= 0.5\\ngini = 0.266\\nsamples = 19\\nvalue = [3, 16]'),\n",
       " Text(127.78888888888889, 97.27578947368421, 'gini = 0.0\\nsamples = 8\\nvalue = [0, 8]'),\n",
       " Text(133.3, 97.27578947368421, 'X[3] <= 0.594\\ngini = 0.397\\nsamples = 11\\nvalue = [3, 8]'),\n",
       " Text(127.78888888888889, 85.83157894736843, 'X[0] <= -0.365\\ngini = 0.444\\nsamples = 3\\nvalue = [2, 1]'),\n",
       " Text(125.03333333333333, 74.38736842105263, 'gini = 0.0\\nsamples = 2\\nvalue = [2, 0]'),\n",
       " Text(130.54444444444445, 74.38736842105263, 'gini = 0.0\\nsamples = 1\\nvalue = [0, 1]'),\n",
       " Text(138.8111111111111, 85.83157894736843, 'X[27] <= 0.5\\ngini = 0.219\\nsamples = 8\\nvalue = [1, 7]'),\n",
       " Text(136.05555555555554, 74.38736842105263, 'gini = 0.0\\nsamples = 7\\nvalue = [0, 7]'),\n",
       " Text(141.56666666666666, 74.38736842105263, 'gini = 0.0\\nsamples = 1\\nvalue = [1, 0]'),\n",
       " Text(149.83333333333334, 108.72, 'X[1] <= -0.539\\ngini = 0.444\\nsamples = 6\\nvalue = [4, 2]'),\n",
       " Text(147.07777777777778, 97.27578947368421, 'X[55] <= 0.5\\ngini = 0.444\\nsamples = 3\\nvalue = [1, 2]'),\n",
       " Text(144.32222222222222, 85.83157894736843, 'gini = 0.0\\nsamples = 1\\nvalue = [1, 0]'),\n",
       " Text(149.83333333333334, 85.83157894736843, 'gini = 0.0\\nsamples = 2\\nvalue = [0, 2]'),\n",
       " Text(152.58888888888887, 97.27578947368421, 'gini = 0.0\\nsamples = 3\\nvalue = [3, 0]'),\n",
       " Text(145.7, 120.16421052631578, 'gini = 0.0\\nsamples = 2\\nvalue = [2, 0]'),\n",
       " Text(148.45555555555555, 131.60842105263157, 'gini = 0.0\\nsamples = 4\\nvalue = [4, 0]'),\n",
       " Text(153.96666666666667, 154.49684210526317, 'X[14] <= 0.5\\ngini = 0.117\\nsamples = 16\\nvalue = [15, 1]'),\n",
       " Text(151.2111111111111, 143.05263157894737, 'gini = 0.0\\nsamples = 13\\nvalue = [13, 0]'),\n",
       " Text(156.72222222222223, 143.05263157894737, 'X[45] <= 0.5\\ngini = 0.444\\nsamples = 3\\nvalue = [2, 1]'),\n",
       " Text(153.96666666666667, 131.60842105263157, 'gini = 0.0\\nsamples = 2\\nvalue = [2, 0]'),\n",
       " Text(159.4777777777778, 131.60842105263157, 'gini = 0.0\\nsamples = 1\\nvalue = [0, 1]'),\n",
       " Text(170.5, 165.94105263157894, 'X[4] <= -0.004\\ngini = 0.36\\nsamples = 34\\nvalue = [8, 26]'),\n",
       " Text(164.98888888888888, 154.49684210526317, 'X[3] <= -1.219\\ngini = 0.444\\nsamples = 9\\nvalue = [6, 3]'),\n",
       " Text(162.23333333333332, 143.05263157894737, 'gini = 0.0\\nsamples = 1\\nvalue = [0, 1]'),\n",
       " Text(167.74444444444444, 143.05263157894737, 'X[1] <= -0.688\\ngini = 0.375\\nsamples = 8\\nvalue = [6, 2]'),\n",
       " Text(164.98888888888888, 131.60842105263157, 'gini = 0.0\\nsamples = 3\\nvalue = [3, 0]'),\n",
       " Text(170.5, 131.60842105263157, 'X[1] <= -0.387\\ngini = 0.48\\nsamples = 5\\nvalue = [3, 2]'),\n",
       " Text(167.74444444444444, 120.16421052631578, 'gini = 0.0\\nsamples = 2\\nvalue = [0, 2]'),\n",
       " Text(173.25555555555556, 120.16421052631578, 'gini = 0.0\\nsamples = 3\\nvalue = [3, 0]'),\n",
       " Text(176.01111111111112, 154.49684210526317, 'X[0] <= 0.133\\ngini = 0.147\\nsamples = 25\\nvalue = [2, 23]'),\n",
       " Text(173.25555555555556, 143.05263157894737, 'gini = 0.0\\nsamples = 21\\nvalue = [0, 21]'),\n",
       " Text(178.76666666666665, 143.05263157894737, 'X[55] <= 0.5\\ngini = 0.5\\nsamples = 4\\nvalue = [2, 2]'),\n",
       " Text(176.01111111111112, 131.60842105263157, 'gini = 0.0\\nsamples = 2\\nvalue = [2, 0]'),\n",
       " Text(181.5222222222222, 131.60842105263157, 'gini = 0.0\\nsamples = 2\\nvalue = [0, 2]'),\n",
       " Text(219.75555555555556, 188.82947368421054, 'X[31] <= 0.5\\ngini = 0.464\\nsamples = 82\\nvalue = [52, 30]'),\n",
       " Text(217.0, 177.38526315789474, 'X[3] <= 0.594\\ngini = 0.425\\nsamples = 75\\nvalue = [52, 23]'),\n",
       " Text(201.5, 165.94105263157894, 'X[26] <= 0.5\\ngini = 0.488\\nsamples = 45\\nvalue = [26, 19]'),\n",
       " Text(187.03333333333333, 154.49684210526317, 'X[13] <= 0.5\\ngini = 0.408\\nsamples = 14\\nvalue = [4, 10]'),\n",
       " Text(184.27777777777777, 143.05263157894737, 'gini = 0.0\\nsamples = 8\\nvalue = [0, 8]'),\n",
       " Text(189.7888888888889, 143.05263157894737, 'X[45] <= 0.5\\ngini = 0.444\\nsamples = 6\\nvalue = [4, 2]'),\n",
       " Text(187.03333333333333, 131.60842105263157, 'gini = 0.0\\nsamples = 3\\nvalue = [3, 0]'),\n",
       " Text(192.54444444444445, 131.60842105263157, 'X[56] <= 0.5\\ngini = 0.444\\nsamples = 3\\nvalue = [1, 2]'),\n",
       " Text(189.7888888888889, 120.16421052631578, 'gini = 0.0\\nsamples = 2\\nvalue = [0, 2]'),\n",
       " Text(195.3, 120.16421052631578, 'gini = 0.0\\nsamples = 1\\nvalue = [1, 0]'),\n",
       " Text(215.96666666666667, 154.49684210526317, 'X[0] <= 2.207\\ngini = 0.412\\nsamples = 31\\nvalue = [22, 9]'),\n",
       " Text(213.2111111111111, 143.05263157894737, 'X[4] <= -0.4\\ngini = 0.476\\nsamples = 23\\nvalue = [14, 9]'),\n",
       " Text(206.32222222222222, 131.60842105263157, 'X[9] <= 0.5\\ngini = 0.337\\nsamples = 14\\nvalue = [11, 3]'),\n",
       " Text(200.8111111111111, 120.16421052631578, 'X[42] <= 0.5\\ngini = 0.165\\nsamples = 11\\nvalue = [10, 1]'),\n",
       " Text(198.05555555555554, 108.72, 'gini = 0.0\\nsamples = 9\\nvalue = [9, 0]'),\n",
       " Text(203.56666666666666, 108.72, 'X[33] <= 0.5\\ngini = 0.5\\nsamples = 2\\nvalue = [1, 1]'),\n",
       " Text(200.8111111111111, 97.27578947368421, 'gini = 0.0\\nsamples = 1\\nvalue = [1, 0]'),\n",
       " Text(206.32222222222222, 97.27578947368421, 'gini = 0.0\\nsamples = 1\\nvalue = [0, 1]'),\n",
       " Text(211.83333333333334, 120.16421052631578, 'X[4] <= -0.928\\ngini = 0.444\\nsamples = 3\\nvalue = [1, 2]'),\n",
       " Text(209.07777777777778, 108.72, 'gini = 0.0\\nsamples = 2\\nvalue = [0, 2]'),\n",
       " Text(214.58888888888887, 108.72, 'gini = 0.0\\nsamples = 1\\nvalue = [1, 0]'),\n",
       " Text(220.1, 131.60842105263157, 'X[2] <= 0.471\\ngini = 0.444\\nsamples = 9\\nvalue = [3, 6]'),\n",
       " Text(217.34444444444443, 120.16421052631578, 'gini = 0.0\\nsamples = 6\\nvalue = [0, 6]'),\n",
       " Text(222.85555555555555, 120.16421052631578, 'gini = 0.0\\nsamples = 3\\nvalue = [3, 0]'),\n",
       " Text(218.72222222222223, 143.05263157894737, 'gini = 0.0\\nsamples = 8\\nvalue = [8, 0]'),\n",
       " Text(232.5, 165.94105263157894, 'X[15] <= 0.5\\ngini = 0.231\\nsamples = 30\\nvalue = [26, 4]'),\n",
       " Text(226.98888888888888, 154.49684210526317, 'X[47] <= 0.5\\ngini = 0.077\\nsamples = 25\\nvalue = [24, 1]'),\n",
       " Text(224.23333333333332, 143.05263157894737, 'gini = 0.0\\nsamples = 21\\nvalue = [21, 0]'),\n",
       " Text(229.74444444444444, 143.05263157894737, 'X[6] <= 0.953\\ngini = 0.375\\nsamples = 4\\nvalue = [3, 1]'),\n",
       " Text(226.98888888888888, 131.60842105263157, 'gini = 0.0\\nsamples = 3\\nvalue = [3, 0]'),\n",
       " Text(232.5, 131.60842105263157, 'gini = 0.0\\nsamples = 1\\nvalue = [0, 1]'),\n",
       " Text(238.01111111111112, 154.49684210526317, 'X[5] <= 0.161\\ngini = 0.48\\nsamples = 5\\nvalue = [2, 3]'),\n",
       " Text(235.25555555555556, 143.05263157894737, 'gini = 0.0\\nsamples = 2\\nvalue = [0, 2]'),\n",
       " Text(240.76666666666665, 143.05263157894737, 'X[1] <= 3.06\\ngini = 0.444\\nsamples = 3\\nvalue = [2, 1]'),\n",
       " Text(238.01111111111112, 131.60842105263157, 'gini = 0.0\\nsamples = 2\\nvalue = [2, 0]'),\n",
       " Text(243.5222222222222, 131.60842105263157, 'gini = 0.0\\nsamples = 1\\nvalue = [0, 1]'),\n",
       " Text(222.51111111111112, 177.38526315789474, 'gini = 0.0\\nsamples = 7\\nvalue = [0, 7]'),\n",
       " Text(287.35277777777776, 200.2736842105263, 'X[49] <= 0.5\\ngini = 0.222\\nsamples = 275\\nvalue = [35, 240]'),\n",
       " Text(269.0111111111111, 188.82947368421054, 'X[20] <= 0.5\\ngini = 0.423\\nsamples = 46\\nvalue = [14, 32]'),\n",
       " Text(261.43333333333334, 177.38526315789474, 'X[3] <= -0.313\\ngini = 0.482\\nsamples = 32\\nvalue = [13, 19]'),\n",
       " Text(254.54444444444445, 165.94105263157894, 'X[4] <= -0.268\\ngini = 0.494\\nsamples = 18\\nvalue = [10, 8]'),\n",
       " Text(249.03333333333333, 154.49684210526317, 'X[1] <= -0.175\\ngini = 0.463\\nsamples = 11\\nvalue = [4, 7]'),\n",
       " Text(246.27777777777777, 143.05263157894737, 'gini = 0.0\\nsamples = 2\\nvalue = [2, 0]'),\n",
       " Text(251.7888888888889, 143.05263157894737, 'X[1] <= 1.352\\ngini = 0.346\\nsamples = 9\\nvalue = [2, 7]'),\n",
       " Text(249.03333333333333, 131.60842105263157, 'gini = 0.0\\nsamples = 6\\nvalue = [0, 6]'),\n",
       " Text(254.54444444444445, 131.60842105263157, 'X[55] <= 0.5\\ngini = 0.444\\nsamples = 3\\nvalue = [2, 1]'),\n",
       " Text(251.7888888888889, 120.16421052631578, 'gini = 0.0\\nsamples = 1\\nvalue = [0, 1]'),\n",
       " Text(257.3, 120.16421052631578, 'gini = 0.0\\nsamples = 2\\nvalue = [2, 0]'),\n",
       " Text(260.05555555555554, 154.49684210526317, 'X[0] <= -0.988\\ngini = 0.245\\nsamples = 7\\nvalue = [6, 1]'),\n",
       " Text(257.3, 143.05263157894737, 'gini = 0.0\\nsamples = 1\\nvalue = [0, 1]'),\n",
       " Text(262.81111111111113, 143.05263157894737, 'gini = 0.0\\nsamples = 6\\nvalue = [6, 0]'),\n",
       " Text(268.3222222222222, 165.94105263157894, 'X[1] <= -0.802\\ngini = 0.337\\nsamples = 14\\nvalue = [3, 11]'),\n",
       " Text(265.56666666666666, 154.49684210526317, 'gini = 0.0\\nsamples = 1\\nvalue = [1, 0]'),\n",
       " Text(271.0777777777778, 154.49684210526317, 'X[48] <= 0.5\\ngini = 0.26\\nsamples = 13\\nvalue = [2, 11]'),\n",
       " Text(268.3222222222222, 143.05263157894737, 'X[56] <= 0.5\\ngini = 0.153\\nsamples = 12\\nvalue = [1, 11]'),\n",
       " Text(265.56666666666666, 131.60842105263157, 'gini = 0.0\\nsamples = 10\\nvalue = [0, 10]'),\n",
       " Text(271.0777777777778, 131.60842105263157, 'X[6] <= 0.953\\ngini = 0.5\\nsamples = 2\\nvalue = [1, 1]'),\n",
       " Text(268.3222222222222, 120.16421052631578, 'gini = 0.0\\nsamples = 1\\nvalue = [0, 1]'),\n",
       " Text(273.8333333333333, 120.16421052631578, 'gini = 0.0\\nsamples = 1\\nvalue = [1, 0]'),\n",
       " Text(273.8333333333333, 143.05263157894737, 'gini = 0.0\\nsamples = 1\\nvalue = [1, 0]'),\n",
       " Text(276.5888888888889, 177.38526315789474, 'X[54] <= 0.5\\ngini = 0.133\\nsamples = 14\\nvalue = [1, 13]'),\n",
       " Text(273.8333333333333, 165.94105263157894, 'gini = 0.0\\nsamples = 12\\nvalue = [0, 12]'),\n",
       " Text(279.34444444444443, 165.94105263157894, 'X[12] <= 0.5\\ngini = 0.5\\nsamples = 2\\nvalue = [1, 1]'),\n",
       " Text(276.5888888888889, 154.49684210526317, 'gini = 0.0\\nsamples = 1\\nvalue = [1, 0]'),\n",
       " Text(282.1, 154.49684210526317, 'gini = 0.0\\nsamples = 1\\nvalue = [0, 1]'),\n",
       " Text(305.69444444444446, 188.82947368421054, 'X[4] <= -1.059\\ngini = 0.167\\nsamples = 229\\nvalue = [21, 208]'),\n",
       " Text(287.6111111111111, 177.38526315789474, 'X[26] <= 0.5\\ngini = 0.48\\nsamples = 15\\nvalue = [6, 9]'),\n",
       " Text(284.85555555555555, 165.94105263157894, 'gini = 0.0\\nsamples = 6\\nvalue = [0, 6]'),\n",
       " Text(290.3666666666667, 165.94105263157894, 'X[13] <= 0.5\\ngini = 0.444\\nsamples = 9\\nvalue = [6, 3]'),\n",
       " Text(287.6111111111111, 154.49684210526317, 'X[3] <= -0.766\\ngini = 0.48\\nsamples = 5\\nvalue = [2, 3]'),\n",
       " Text(284.85555555555555, 143.05263157894737, 'gini = 0.0\\nsamples = 1\\nvalue = [1, 0]'),\n",
       " Text(290.3666666666667, 143.05263157894737, 'X[50] <= 0.5\\ngini = 0.375\\nsamples = 4\\nvalue = [1, 3]'),\n",
       " Text(287.6111111111111, 131.60842105263157, 'gini = 0.0\\nsamples = 2\\nvalue = [0, 2]'),\n",
       " Text(293.1222222222222, 131.60842105263157, 'X[43] <= 0.5\\ngini = 0.5\\nsamples = 2\\nvalue = [1, 1]'),\n",
       " Text(290.3666666666667, 120.16421052631578, 'gini = 0.0\\nsamples = 1\\nvalue = [1, 0]'),\n",
       " Text(295.8777777777778, 120.16421052631578, 'gini = 0.0\\nsamples = 1\\nvalue = [0, 1]'),\n",
       " Text(293.1222222222222, 154.49684210526317, 'gini = 0.0\\nsamples = 4\\nvalue = [4, 0]'),\n",
       " Text(323.77777777777777, 177.38526315789474, 'X[1] <= 1.64\\ngini = 0.13\\nsamples = 214\\nvalue = [15, 199]'),\n",
       " Text(318.26666666666665, 165.94105263157894, 'X[15] <= 0.5\\ngini = 0.102\\nsamples = 204\\nvalue = [11, 193]'),\n",
       " Text(315.5111111111111, 154.49684210526317, 'X[5] <= 1.893\\ngini = 0.174\\nsamples = 114\\nvalue = [11, 103]'),\n",
       " Text(312.75555555555553, 143.05263157894737, 'X[4] <= 2.679\\ngini = 0.161\\nsamples = 113\\nvalue = [10, 103]'),\n",
       " Text(310.0, 131.60842105263157, 'X[22] <= 0.5\\ngini = 0.148\\nsamples = 112\\nvalue = [9, 103]'),\n",
       " Text(301.3888888888889, 120.16421052631578, 'X[1] <= 0.119\\ngini = 0.135\\nsamples = 110\\nvalue = [8, 102]'),\n",
       " Text(292.43333333333334, 108.72, 'X[4] <= -0.532\\ngini = 0.089\\nsamples = 86\\nvalue = [4, 82]'),\n",
       " Text(289.67777777777775, 97.27578947368421, 'X[28] <= 0.5\\ngini = 0.219\\nsamples = 32\\nvalue = [4, 28]'),\n",
       " Text(282.7888888888889, 85.83157894736843, 'X[42] <= 0.5\\ngini = 0.128\\nsamples = 29\\nvalue = [2, 27]'),\n",
       " Text(277.27777777777777, 74.38736842105263, 'X[13] <= 0.5\\ngini = 0.071\\nsamples = 27\\nvalue = [1, 26]'),\n",
       " Text(274.52222222222224, 62.943157894736856, 'X[1] <= -0.61\\ngini = 0.444\\nsamples = 3\\nvalue = [1, 2]'),\n",
       " Text(271.76666666666665, 51.49894736842106, 'gini = 0.0\\nsamples = 2\\nvalue = [0, 2]'),\n",
       " Text(277.27777777777777, 51.49894736842106, 'gini = 0.0\\nsamples = 1\\nvalue = [1, 0]'),\n",
       " Text(280.0333333333333, 62.943157894736856, 'gini = 0.0\\nsamples = 24\\nvalue = [0, 24]'),\n",
       " Text(288.3, 74.38736842105263, 'X[3] <= 0.594\\ngini = 0.5\\nsamples = 2\\nvalue = [1, 1]'),\n",
       " Text(285.5444444444444, 62.943157894736856, 'gini = 0.0\\nsamples = 1\\nvalue = [0, 1]'),\n",
       " Text(291.05555555555554, 62.943157894736856, 'gini = 0.0\\nsamples = 1\\nvalue = [1, 0]'),\n",
       " Text(296.56666666666666, 85.83157894736843, 'X[37] <= 0.5\\ngini = 0.444\\nsamples = 3\\nvalue = [2, 1]'),\n",
       " Text(293.81111111111113, 74.38736842105263, 'gini = 0.0\\nsamples = 1\\nvalue = [0, 1]'),\n",
       " Text(299.3222222222222, 74.38736842105263, 'gini = 0.0\\nsamples = 2\\nvalue = [2, 0]'),\n",
       " Text(295.18888888888887, 97.27578947368421, 'gini = 0.0\\nsamples = 54\\nvalue = [0, 54]'),\n",
       " Text(310.34444444444443, 108.72, 'X[32] <= 0.5\\ngini = 0.278\\nsamples = 24\\nvalue = [4, 20]'),\n",
       " Text(304.8333333333333, 97.27578947368421, 'X[1] <= 0.148\\ngini = 0.172\\nsamples = 21\\nvalue = [2, 19]'),\n",
       " Text(302.0777777777778, 85.83157894736843, 'gini = 0.0\\nsamples = 1\\nvalue = [1, 0]'),\n",
       " Text(307.5888888888889, 85.83157894736843, 'X[23] <= 0.5\\ngini = 0.095\\nsamples = 20\\nvalue = [1, 19]'),\n",
       " Text(304.8333333333333, 74.38736842105263, 'gini = 0.0\\nsamples = 18\\nvalue = [0, 18]'),\n",
       " Text(310.34444444444443, 74.38736842105263, 'X[33] <= 0.5\\ngini = 0.5\\nsamples = 2\\nvalue = [1, 1]'),\n",
       " Text(307.5888888888889, 62.943157894736856, 'gini = 0.0\\nsamples = 1\\nvalue = [0, 1]'),\n",
       " Text(313.1, 62.943157894736856, 'gini = 0.0\\nsamples = 1\\nvalue = [1, 0]'),\n",
       " Text(315.85555555555555, 97.27578947368421, 'X[38] <= 0.5\\ngini = 0.444\\nsamples = 3\\nvalue = [2, 1]'),\n",
       " Text(313.1, 85.83157894736843, 'gini = 0.0\\nsamples = 2\\nvalue = [2, 0]'),\n",
       " Text(318.6111111111111, 85.83157894736843, 'gini = 0.0\\nsamples = 1\\nvalue = [0, 1]'),\n",
       " Text(318.6111111111111, 120.16421052631578, 'X[26] <= 0.5\\ngini = 0.5\\nsamples = 2\\nvalue = [1, 1]'),\n",
       " Text(315.85555555555555, 108.72, 'gini = 0.0\\nsamples = 1\\nvalue = [1, 0]'),\n",
       " Text(321.3666666666667, 108.72, 'gini = 0.0\\nsamples = 1\\nvalue = [0, 1]'),\n",
       " Text(315.5111111111111, 131.60842105263157, 'gini = 0.0\\nsamples = 1\\nvalue = [1, 0]'),\n",
       " Text(318.26666666666665, 143.05263157894737, 'gini = 0.0\\nsamples = 1\\nvalue = [1, 0]'),\n",
       " Text(321.02222222222224, 154.49684210526317, 'gini = 0.0\\nsamples = 90\\nvalue = [0, 90]'),\n",
       " Text(329.2888888888889, 165.94105263157894, 'X[4] <= -0.18\\ngini = 0.48\\nsamples = 10\\nvalue = [4, 6]'),\n",
       " Text(326.5333333333333, 154.49684210526317, 'X[17] <= 0.5\\ngini = 0.32\\nsamples = 5\\nvalue = [4, 1]'),\n",
       " Text(323.77777777777777, 143.05263157894737, 'gini = 0.0\\nsamples = 4\\nvalue = [4, 0]'),\n",
       " Text(329.2888888888889, 143.05263157894737, 'gini = 0.0\\nsamples = 1\\nvalue = [0, 1]'),\n",
       " Text(332.0444444444444, 154.49684210526317, 'gini = 0.0\\nsamples = 5\\nvalue = [0, 5]')]"
      ]
     },
     "execution_count": 19,
     "metadata": {},
     "output_type": "execute_result"
    },
    {
     "data": {
      "image/png": "[encoded data removed]",
      "text/plain": [
       "<Figure size 432x288 with 1 Axes>"
      ]
     },
     "metadata": {
      "needs_background": "light"
     },
     "output_type": "display_data"
    }
   ],
   "source": [
    "from sklearn import tree\n",
    "\n",
    "tree.plot_tree(clf)"
   ]
  },
  {
   "cell_type": "code",
   "execution_count": 20,
   "metadata": {},
   "outputs": [],
   "source": [
    "y_pred = clf.predict(x_test)"
   ]
  },
  {
   "cell_type": "code",
   "execution_count": 21,
   "metadata": {},
   "outputs": [
    {
     "name": "stdout",
     "output_type": "stream",
     "text": [
      "              precision    recall  f1-score   support\n",
      "\n",
      "           0       0.46      0.51      0.48        91\n",
      "           1       0.78      0.74      0.76       209\n",
      "\n",
      "    accuracy                           0.67       300\n",
      "   macro avg       0.62      0.62      0.62       300\n",
      "weighted avg       0.68      0.67      0.67       300\n",
      "\n"
     ]
    }
   ],
   "source": [
    "from sklearn.metrics import classification_report, confusion_matrix\n",
    "\n",
    "print(classification_report(y_test, y_pred))"
   ]
  },
  {
   "cell_type": "code",
   "execution_count": 22,
   "metadata": {},
   "outputs": [
    {
     "name": "stdout",
     "output_type": "stream",
     "text": [
      "tn, fp, fn, tp\n",
      "46  45  54  155\n"
     ]
    }
   ],
   "source": [
    "tn, fp, fn, tp = confusion_matrix(y_test,y_pred).ravel()\n",
    "print(\"tn, fp, fn, tp\")\n",
    "print(tn, \"\", fp, \"\", fn, \"\", tp)"
   ]
  },
  {
   "cell_type": "code",
   "execution_count": 24,
   "metadata": {},
   "outputs": [
    {
     "data": {
      "image/png": "[encoded data removed]",
      "text/plain": [
       "<Figure size 432x288 with 1 Axes>"
      ]
     },
     "metadata": {
      "needs_background": "light"
     },
     "output_type": "display_data"
    }
   ],
   "source": [
    "# from sklearn.metrics import roc_curve, auc\n",
    "\n",
    "# fpr, tpr, thresholds = roc_curve(y_test, y_pred)\n",
    "# roc_auc =  auc(fpr, tpr)\n",
    "\n",
    "# plt.figure()\n",
    "# plt.plot(fpr, tpr, color='darkorange', lw=1, label='ROC curve (area = %0.2f)' % roc_auc)\n",
    "# plt.plot([0, 1], [0, 1], color='navy', lw=1, linestyle='--')\n",
    "# plt.xlim([0.0, 1.0])\n",
    "# plt.ylim([0.0, 1.05])\n",
    "# plt.xlabel('False positive rate')\n",
    "# plt.ylabel('True positive rate')\n",
    "# plt.title('ROC')\n",
    "# plt.legend(loc=\"lower right\")\n",
    "# plt.show()\n",
    "\n",
    "from sklearn.metrics import plot_roc_curve\n",
    "import matplotlib.pyplot as plt\n",
    "\n",
    "disp = plot_roc_curve(clf, x_test, y_test)\n",
    "plt.show()"
   ]
  },
  {
   "cell_type": "code",
   "execution_count": 25,
   "metadata": {},
   "outputs": [],
   "source": [
    "from sklearn.ensemble import RandomForestClassifier\n",
    "\n",
    "clf2 = RandomForestClassifier(max_depth=None, random_state=0)\n",
    "clf2 = clf2.fit(x_train, y_train)"
   ]
  },
  {
   "cell_type": "code",
   "execution_count": 26,
   "metadata": {},
   "outputs": [],
   "source": [
    "y_pred2 = clf2.predict(x_test)"
   ]
  },
  {
   "cell_type": "code",
   "execution_count": 27,
   "metadata": {},
   "outputs": [
    {
     "name": "stdout",
     "output_type": "stream",
     "text": [
      "              precision    recall  f1-score   support\n",
      "\n",
      "           0       0.69      0.40      0.50        91\n",
      "           1       0.78      0.92      0.84       209\n",
      "\n",
      "    accuracy                           0.76       300\n",
      "   macro avg       0.74      0.66      0.67       300\n",
      "weighted avg       0.75      0.76      0.74       300\n",
      "\n"
     ]
    }
   ],
   "source": [
    "print(classification_report(y_test, y_pred2))"
   ]
  },
  {
   "cell_type": "code",
   "execution_count": 28,
   "metadata": {},
   "outputs": [
    {
     "name": "stdout",
     "output_type": "stream",
     "text": [
      "tn, fp, fn, tp\n",
      "36  55  16  193\n"
     ]
    }
   ],
   "source": [
    "tn, fp, fn, tp = confusion_matrix(y_test,y_pred2).ravel()\n",
    "print(\"tn, fp, fn, tp\")\n",
    "print(tn, \"\", fp, \"\", fn, \"\", tp)"
   ]
  },
  {
   "cell_type": "code",
   "execution_count": 29,
   "metadata": {},
   "outputs": [
    {
     "data": {
      "image/png": "[encoded data removed]",
      "text/plain": [
       "<Figure size 432x288 with 1 Axes>"
      ]
     },
     "metadata": {
      "needs_background": "light"
     },
     "output_type": "display_data"
    }
   ],
   "source": [
    "from sklearn.metrics import plot_roc_curve\n",
    "\n",
    "disp2 = plot_roc_curve(clf2, x_test, y_test)\n",
    "plt.show()"
   ]
  },
  {
   "cell_type": "code",
   "execution_count": 30,
   "metadata": {},
   "outputs": [
    {
     "data": {
      "text/plain": [
       "AdaBoostClassifier(algorithm='SAMME.R', base_estimator=None, learning_rate=1.0,\n",
       "                   n_estimators=50, random_state=None)"
      ]
     },
     "execution_count": 30,
     "metadata": {},
     "output_type": "execute_result"
    }
   ],
   "source": [
    "from sklearn.ensemble import AdaBoostClassifier\n",
    "\n",
    "clf3 = AdaBoostClassifier()\n",
    "clf3.fit(x_train, y_train)"
   ]
  },
  {
   "cell_type": "code",
   "execution_count": 31,
   "metadata": {},
   "outputs": [],
   "source": [
    "y_pred3 = clf3.predict(x_test)"
   ]
  },
  {
   "cell_type": "code",
   "execution_count": 32,
   "metadata": {},
   "outputs": [
    {
     "name": "stdout",
     "output_type": "stream",
     "text": [
      "              precision    recall  f1-score   support\n",
      "\n",
      "           0       0.59      0.41      0.48        91\n",
      "           1       0.77      0.88      0.82       209\n",
      "\n",
      "    accuracy                           0.73       300\n",
      "   macro avg       0.68      0.64      0.65       300\n",
      "weighted avg       0.72      0.73      0.72       300\n",
      "\n"
     ]
    }
   ],
   "source": [
    "print(classification_report(y_test, y_pred3))"
   ]
  },
  {
   "cell_type": "code",
   "execution_count": 33,
   "metadata": {},
   "outputs": [
    {
     "name": "stdout",
     "output_type": "stream",
     "text": [
      "tn, fp, fn, tp\n",
      "37  54  26  183\n"
     ]
    }
   ],
   "source": [
    "tn, fp, fn, tp = confusion_matrix(y_test,y_pred3).ravel()\n",
    "print(\"tn, fp, fn, tp\")\n",
    "print(tn, \"\", fp, \"\", fn, \"\", tp)"
   ]
  },
  {
   "cell_type": "code",
   "execution_count": 34,
   "metadata": {},
   "outputs": [
    {
     "data": {
      "image/png": "[encoded data removed]",
      "text/plain": [
       "<Figure size 432x288 with 1 Axes>"
      ]
     },
     "metadata": {
      "needs_background": "light"
     },
     "output_type": "display_data"
    }
   ],
   "source": [
    "disp3 = plot_roc_curve(clf3, x_test, y_test)\n",
    "plt.show()"
   ]
  },
  {
   "cell_type": "code",
   "execution_count": 35,
   "metadata": {},
   "outputs": [
    {
     "data": {
      "text/plain": [
       "GradientBoostingClassifier(ccp_alpha=0.0, criterion='friedman_mse', init=None,\n",
       "                           learning_rate=0.1, loss='deviance', max_depth=3,\n",
       "                           max_features=None, max_leaf_nodes=None,\n",
       "                           min_impurity_decrease=0.0, min_impurity_split=None,\n",
       "                           min_samples_leaf=1, min_samples_split=2,\n",
       "                           min_weight_fraction_leaf=0.0, n_estimators=100,\n",
       "                           n_iter_no_change=None, presort='deprecated',\n",
       "                           random_state=None, subsample=1.0, tol=0.0001,\n",
       "                           validation_fraction=0.1, verbose=0,\n",
       "                           warm_start=False)"
      ]
     },
     "execution_count": 35,
     "metadata": {},
     "output_type": "execute_result"
    }
   ],
   "source": [
    "from sklearn.ensemble import GradientBoostingClassifier\n",
    "\n",
    "clf4 = GradientBoostingClassifier()\n",
    "clf4.fit(x_train, y_train)"
   ]
  },
  {
   "cell_type": "code",
   "execution_count": 36,
   "metadata": {},
   "outputs": [],
   "source": [
    "y_pred4 = clf4.predict(x_test)"
   ]
  },
  {
   "cell_type": "code",
   "execution_count": 37,
   "metadata": {},
   "outputs": [
    {
     "name": "stdout",
     "output_type": "stream",
     "text": [
      "              precision    recall  f1-score   support\n",
      "\n",
      "           0       0.70      0.46      0.56        91\n",
      "           1       0.80      0.91      0.85       209\n",
      "\n",
      "    accuracy                           0.78       300\n",
      "   macro avg       0.75      0.69      0.70       300\n",
      "weighted avg       0.77      0.78      0.76       300\n",
      "\n"
     ]
    }
   ],
   "source": [
    "print(classification_report(y_test, y_pred4))"
   ]
  },
  {
   "cell_type": "code",
   "execution_count": 38,
   "metadata": {},
   "outputs": [
    {
     "name": "stdout",
     "output_type": "stream",
     "text": [
      "tn, fp, fn, tp\n",
      "42  49  18  191\n"
     ]
    }
   ],
   "source": [
    "tn, fp, fn, tp = confusion_matrix(y_test,y_pred4).ravel()\n",
    "print(\"tn, fp, fn, tp\")\n",
    "print(tn, \"\", fp, \"\", fn, \"\", tp)"
   ]
  },
  {
   "cell_type": "code",
   "execution_count": 39,
   "metadata": {},
   "outputs": [
    {
     "data": {
      "image/png": "[encoded data removed]",
      "text/plain": [
       "<Figure size 432x288 with 1 Axes>"
      ]
     },
     "metadata": {
      "needs_background": "light"
     },
     "output_type": "display_data"
    }
   ],
   "source": [
    "disp4 = plot_roc_curve(clf4, x_test, y_test)\n",
    "plt.show()"
   ]
  },
  {
   "cell_type": "code",
   "execution_count": 40,
   "metadata": {},
   "outputs": [
    {
     "data": {
      "text/plain": [
       "XGBClassifier(base_score=0.5, booster=None, colsample_bylevel=1,\n",
       "              colsample_bynode=1, colsample_bytree=1, gamma=0, gpu_id=-1,\n",
       "              importance_type='gain', interaction_constraints=None,\n",
       "              learning_rate=0.300000012, max_delta_step=0, max_depth=6,\n",
       "              min_child_weight=1, missing=nan, monotone_constraints=None,\n",
       "              n_estimators=100, n_jobs=0, num_parallel_tree=1,\n",
       "              objective='binary:logistic', random_state=0, reg_alpha=0,\n",
       "              reg_lambda=1, scale_pos_weight=1, subsample=1, tree_method=None,\n",
       "              validate_parameters=False, verbosity=None)"
      ]
     },
     "execution_count": 40,
     "metadata": {},
     "output_type": "execute_result"
    }
   ],
   "source": [
    "import xgboost as xgb\n",
    "from xgboost import XGBClassifier\n",
    "\n",
    "clf5 = XGBClassifier()\n",
    "clf5.fit(x_train, y_train)"
   ]
  },
  {
   "cell_type": "code",
   "execution_count": 42,
   "metadata": {},
   "outputs": [],
   "source": [
    "y_pred5 = clf5.predict(x_test)"
   ]
  },
  {
   "cell_type": "code",
   "execution_count": 43,
   "metadata": {},
   "outputs": [
    {
     "name": "stdout",
     "output_type": "stream",
     "text": [
      "              precision    recall  f1-score   support\n",
      "\n",
      "           0       0.68      0.48      0.56        91\n",
      "           1       0.80      0.90      0.85       209\n",
      "\n",
      "    accuracy                           0.77       300\n",
      "   macro avg       0.74      0.69      0.71       300\n",
      "weighted avg       0.76      0.77      0.76       300\n",
      "\n"
     ]
    }
   ],
   "source": [
    "print(classification_report(y_test, y_pred5))"
   ]
  },
  {
   "cell_type": "code",
   "execution_count": 44,
   "metadata": {},
   "outputs": [
    {
     "name": "stdout",
     "output_type": "stream",
     "text": [
      "tn, fp, fn, tp\n",
      "44  47  21  188\n"
     ]
    }
   ],
   "source": [
    "tn, fp, fn, tp = confusion_matrix(y_test,y_pred5).ravel()\n",
    "print(\"tn, fp, fn, tp\")\n",
    "print(tn, \"\", fp, \"\", fn, \"\", tp)"
   ]
  },
  {
   "cell_type": "code",
   "execution_count": 45,
   "metadata": {},
   "outputs": [
    {
     "data": {
      "image/png": "[encoded data removed]",
      "text/plain": [
       "<Figure size 432x288 with 1 Axes>"
      ]
     },
     "metadata": {
      "needs_background": "light"
     },
     "output_type": "display_data"
    }
   ],
   "source": [
    "disp5 = plot_roc_curve(clf5, x_test, y_test)\n",
    "plt.show()"
   ]
  },
  {
   "cell_type": "code",
   "execution_count": 46,
   "metadata": {},
   "outputs": [
    {
     "data": {
      "text/plain": [
       "SVC(C=1.0, break_ties=False, cache_size=200, class_weight=None, coef0=0.0,\n",
       "    decision_function_shape='ovr', degree=3, gamma='auto', kernel='rbf',\n",
       "    max_iter=-1, probability=False, random_state=None, shrinking=True,\n",
       "    tol=0.001, verbose=False)"
      ]
     },
     "execution_count": 46,
     "metadata": {},
     "output_type": "execute_result"
    }
   ],
   "source": [
    "from sklearn.svm import SVC\n",
    "\n",
    "clf6 = SVC(gamma='auto')\n",
    "clf6.fit(x_train, y_train)"
   ]
  },
  {
   "cell_type": "code",
   "execution_count": 47,
   "metadata": {},
   "outputs": [],
   "source": [
    "y_pred6 = clf6.predict(x_test)"
   ]
  },
  {
   "cell_type": "code",
   "execution_count": 48,
   "metadata": {},
   "outputs": [
    {
     "name": "stdout",
     "output_type": "stream",
     "text": [
      "              precision    recall  f1-score   support\n",
      "\n",
      "           0       0.83      0.21      0.33        91\n",
      "           1       0.74      0.98      0.84       209\n",
      "\n",
      "    accuracy                           0.75       300\n",
      "   macro avg       0.78      0.59      0.59       300\n",
      "weighted avg       0.77      0.75      0.69       300\n",
      "\n"
     ]
    }
   ],
   "source": [
    "print(classification_report(y_test, y_pred6))"
   ]
  },
  {
   "cell_type": "code",
   "execution_count": 49,
   "metadata": {},
   "outputs": [
    {
     "name": "stdout",
     "output_type": "stream",
     "text": [
      "tn, fp, fn, tp\n",
      "19  72  4  205\n"
     ]
    }
   ],
   "source": [
    "tn, fp, fn, tp = confusion_matrix(y_test,y_pred6).ravel()\n",
    "print(\"tn, fp, fn, tp\")\n",
    "print(tn, \"\", fp, \"\", fn, \"\", tp)"
   ]
  },
  {
   "cell_type": "code",
   "execution_count": 50,
   "metadata": {},
   "outputs": [
    {
     "data": {
      "image/png": "[encoded data removed]",
      "text/plain": [
       "<Figure size 432x288 with 1 Axes>"
      ]
     },
     "metadata": {
      "needs_background": "light"
     },
     "output_type": "display_data"
    }
   ],
   "source": [
    "disp6 = plot_roc_curve(clf6, x_test, y_test)\n",
    "plt.show()"
   ]
  },
  {
   "cell_type": "code",
   "execution_count": 52,
   "metadata": {},
   "outputs": [
    {
     "name": "stderr",
     "output_type": "stream",
     "text": [
      "c:\\python38\\lib\\site-packages\\sklearn\\neural_network\\_multilayer_perceptron.py:568: ConvergenceWarning: Stochastic Optimizer: Maximum iterations (200) reached and the optimization hasn't converged yet.\n",
      "  warnings.warn(\n"
     ]
    },
    {
     "data": {
      "text/plain": [
       "MLPClassifier(activation='relu', alpha=0.0001, batch_size='auto', beta_1=0.9,\n",
       "              beta_2=0.999, early_stopping=False, epsilon=1e-08,\n",
       "              hidden_layer_sizes=(100,), learning_rate='constant',\n",
       "              learning_rate_init=0.001, max_fun=15000, max_iter=200,\n",
       "              momentum=0.9, n_iter_no_change=10, nesterovs_momentum=True,\n",
       "              power_t=0.5, random_state=None, shuffle=True, solver='adam',\n",
       "              tol=0.0001, validation_fraction=0.1, verbose=False,\n",
       "              warm_start=False)"
      ]
     },
     "execution_count": 52,
     "metadata": {},
     "output_type": "execute_result"
    }
   ],
   "source": [
    "from sklearn.neural_network import MLPClassifier\n",
    "\n",
    "clf7 = MLPClassifier()\n",
    "clf7.fit(x_train, y_train)"
   ]
  },
  {
   "cell_type": "code",
   "execution_count": 53,
   "metadata": {},
   "outputs": [],
   "source": [
    "y_pred7 = clf7.predict(x_test)"
   ]
  },
  {
   "cell_type": "code",
   "execution_count": 54,
   "metadata": {},
   "outputs": [
    {
     "name": "stdout",
     "output_type": "stream",
     "text": [
      "              precision    recall  f1-score   support\n",
      "\n",
      "           0       0.61      0.47      0.53        91\n",
      "           1       0.79      0.87      0.83       209\n",
      "\n",
      "    accuracy                           0.75       300\n",
      "   macro avg       0.70      0.67      0.68       300\n",
      "weighted avg       0.73      0.75      0.74       300\n",
      "\n"
     ]
    }
   ],
   "source": [
    "print(classification_report(y_test, y_pred7))"
   ]
  },
  {
   "cell_type": "code",
   "execution_count": 55,
   "metadata": {},
   "outputs": [
    {
     "name": "stdout",
     "output_type": "stream",
     "text": [
      "tn, fp, fn, tp\n",
      "43  48  28  181\n"
     ]
    }
   ],
   "source": [
    "tn, fp, fn, tp = confusion_matrix(y_test,y_pred7).ravel()\n",
    "print(\"tn, fp, fn, tp\")\n",
    "print(tn, \"\", fp, \"\", fn, \"\", tp)"
   ]
  },
  {
   "cell_type": "code",
   "execution_count": 59,
   "metadata": {},
   "outputs": [
    {
     "data": {
      "image/png": "[encoded data removed]",
      "text/plain": [
       "<Figure size 432x288 with 1 Axes>"
      ]
     },
     "metadata": {
      "needs_background": "light"
     },
     "output_type": "display_data"
    }
   ],
   "source": [
    "disp7 = plot_roc_curve(clf7, x_test, y_test)\n",
    "plt.show()"
   ]
  },
  {
   "cell_type": "code",
   "execution_count": null,
   "metadata": {},
   "outputs": [],
   "source": []
  }
 ],
 "metadata": {
  "kernelspec": {
   "display_name": "Python 3",
   "language": "python",
   "name": "python3"
  },
  "language_info": {
   "codemirror_mode": {
    "name": "ipython",
    "version": 3
   },
   "file_extension": ".py",
   "mimetype": "text/x-python",
   "name": "python",
   "nbconvert_exporter": "python",
   "pygments_lexer": "ipython3",
   "version": "3.7.1"
  }
 },
 "nbformat": 4,
 "nbformat_minor": 4
}
